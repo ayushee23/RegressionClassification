{
 "cells": [
  {
   "cell_type": "code",
   "execution_count": 1,
   "metadata": {
    "collapsed": true,
    "deletable": true,
    "editable": true
   },
   "outputs": [],
   "source": [
    "import pandas as pd\n",
    "import numpy as np\n",
    "import matplotlib\n",
    "import matplotlib.pyplot as plt\n",
    "from sklearn import preprocessing\n",
    "from pandas.tools.plotting import scatter_matrix\n",
    "from pandas.stats.api import ols\n",
    "matplotlib.style.use('ggplot')\n",
    "import statsmodels.formula.api as sm\n",
    "import statsmodels.stats.api as sms\n",
    "from sklearn import linear_model\n",
    "import plotly\n",
    "from plotly.graph_objs import *"
   ]
  },
  {
   "cell_type": "code",
   "execution_count": 2,
   "metadata": {
    "collapsed": false,
    "deletable": true,
    "editable": true
   },
   "outputs": [
    {
     "data": {
      "text/html": [
       "<div>\n",
       "<table border=\"1\" class=\"dataframe\">\n",
       "  <thead>\n",
       "    <tr style=\"text-align: right;\">\n",
       "      <th></th>\n",
       "      <th>EchoTime</th>\n",
       "      <th>WaterTemp</th>\n",
       "      <th>Clconcentration</th>\n",
       "      <th>Salinity</th>\n",
       "      <th>pH</th>\n",
       "      <th>Distance</th>\n",
       "    </tr>\n",
       "  </thead>\n",
       "  <tbody>\n",
       "    <tr>\n",
       "      <th>0</th>\n",
       "      <td>4.018358</td>\n",
       "      <td>3</td>\n",
       "      <td>19.013137</td>\n",
       "      <td>34.348183</td>\n",
       "      <td>8.042168</td>\n",
       "      <td>2511.462490</td>\n",
       "    </tr>\n",
       "    <tr>\n",
       "      <th>1</th>\n",
       "      <td>5.850474</td>\n",
       "      <td>5</td>\n",
       "      <td>19.017350</td>\n",
       "      <td>34.355793</td>\n",
       "      <td>7.956494</td>\n",
       "      <td>3656.544021</td>\n",
       "    </tr>\n",
       "    <tr>\n",
       "      <th>2</th>\n",
       "      <td>3.575282</td>\n",
       "      <td>6</td>\n",
       "      <td>19.004284</td>\n",
       "      <td>34.332190</td>\n",
       "      <td>8.020561</td>\n",
       "      <td>2234.559271</td>\n",
       "    </tr>\n",
       "    <tr>\n",
       "      <th>3</th>\n",
       "      <td>3.808030</td>\n",
       "      <td>6</td>\n",
       "      <td>18.989512</td>\n",
       "      <td>34.305502</td>\n",
       "      <td>7.843142</td>\n",
       "      <td>2380.011199</td>\n",
       "    </tr>\n",
       "    <tr>\n",
       "      <th>4</th>\n",
       "      <td>5.167752</td>\n",
       "      <td>4</td>\n",
       "      <td>19.015003</td>\n",
       "      <td>34.351554</td>\n",
       "      <td>7.998218</td>\n",
       "      <td>3229.850749</td>\n",
       "    </tr>\n",
       "    <tr>\n",
       "      <th>5</th>\n",
       "      <td>6.916485</td>\n",
       "      <td>6</td>\n",
       "      <td>19.001236</td>\n",
       "      <td>34.326682</td>\n",
       "      <td>8.010355</td>\n",
       "      <td>4322.799020</td>\n",
       "    </tr>\n",
       "    <tr>\n",
       "      <th>6</th>\n",
       "      <td>3.494567</td>\n",
       "      <td>4</td>\n",
       "      <td>18.996399</td>\n",
       "      <td>34.317944</td>\n",
       "      <td>7.916522</td>\n",
       "      <td>2184.125647</td>\n",
       "    </tr>\n",
       "    <tr>\n",
       "      <th>7</th>\n",
       "      <td>6.862207</td>\n",
       "      <td>7</td>\n",
       "      <td>18.988974</td>\n",
       "      <td>34.304530</td>\n",
       "      <td>7.880541</td>\n",
       "      <td>4288.874940</td>\n",
       "    </tr>\n",
       "    <tr>\n",
       "      <th>8</th>\n",
       "      <td>2.854633</td>\n",
       "      <td>9</td>\n",
       "      <td>18.989140</td>\n",
       "      <td>34.304831</td>\n",
       "      <td>7.927781</td>\n",
       "      <td>1784.132391</td>\n",
       "    </tr>\n",
       "    <tr>\n",
       "      <th>9</th>\n",
       "      <td>7.299301</td>\n",
       "      <td>5</td>\n",
       "      <td>18.990197</td>\n",
       "      <td>34.306740</td>\n",
       "      <td>8.000301</td>\n",
       "      <td>4562.070035</td>\n",
       "    </tr>\n",
       "    <tr>\n",
       "      <th>10</th>\n",
       "      <td>2.245878</td>\n",
       "      <td>8</td>\n",
       "      <td>18.991149</td>\n",
       "      <td>34.308460</td>\n",
       "      <td>7.965927</td>\n",
       "      <td>1403.682797</td>\n",
       "    </tr>\n",
       "    <tr>\n",
       "      <th>11</th>\n",
       "      <td>5.041025</td>\n",
       "      <td>11</td>\n",
       "      <td>19.019720</td>\n",
       "      <td>34.360075</td>\n",
       "      <td>8.034199</td>\n",
       "      <td>3150.636846</td>\n",
       "    </tr>\n",
       "    <tr>\n",
       "      <th>12</th>\n",
       "      <td>2.154123</td>\n",
       "      <td>6</td>\n",
       "      <td>19.017218</td>\n",
       "      <td>34.355554</td>\n",
       "      <td>7.962677</td>\n",
       "      <td>1346.335509</td>\n",
       "    </tr>\n",
       "    <tr>\n",
       "      <th>13</th>\n",
       "      <td>8.499913</td>\n",
       "      <td>8</td>\n",
       "      <td>18.990391</td>\n",
       "      <td>34.307091</td>\n",
       "      <td>7.998433</td>\n",
       "      <td>5312.460902</td>\n",
       "    </tr>\n",
       "    <tr>\n",
       "      <th>14</th>\n",
       "      <td>5.301814</td>\n",
       "      <td>10</td>\n",
       "      <td>19.011570</td>\n",
       "      <td>34.345352</td>\n",
       "      <td>8.260425</td>\n",
       "      <td>3313.624139</td>\n",
       "    </tr>\n",
       "    <tr>\n",
       "      <th>15</th>\n",
       "      <td>5.555697</td>\n",
       "      <td>8</td>\n",
       "      <td>18.994056</td>\n",
       "      <td>34.313711</td>\n",
       "      <td>8.067236</td>\n",
       "      <td>3472.326743</td>\n",
       "    </tr>\n",
       "    <tr>\n",
       "      <th>16</th>\n",
       "      <td>7.890938</td>\n",
       "      <td>8</td>\n",
       "      <td>19.006757</td>\n",
       "      <td>34.336658</td>\n",
       "      <td>8.013955</td>\n",
       "      <td>4931.831722</td>\n",
       "    </tr>\n",
       "    <tr>\n",
       "      <th>17</th>\n",
       "      <td>5.880709</td>\n",
       "      <td>4</td>\n",
       "      <td>18.993972</td>\n",
       "      <td>34.313560</td>\n",
       "      <td>7.897557</td>\n",
       "      <td>3675.432369</td>\n",
       "    </tr>\n",
       "    <tr>\n",
       "      <th>18</th>\n",
       "      <td>4.779159</td>\n",
       "      <td>4</td>\n",
       "      <td>18.983340</td>\n",
       "      <td>34.294354</td>\n",
       "      <td>7.971236</td>\n",
       "      <td>2986.974377</td>\n",
       "    </tr>\n",
       "    <tr>\n",
       "      <th>19</th>\n",
       "      <td>6.178652</td>\n",
       "      <td>4</td>\n",
       "      <td>19.012497</td>\n",
       "      <td>34.347026</td>\n",
       "      <td>7.914928</td>\n",
       "      <td>3861.642291</td>\n",
       "    </tr>\n",
       "    <tr>\n",
       "      <th>20</th>\n",
       "      <td>5.055118</td>\n",
       "      <td>5</td>\n",
       "      <td>18.984689</td>\n",
       "      <td>34.296789</td>\n",
       "      <td>8.113464</td>\n",
       "      <td>3159.441314</td>\n",
       "    </tr>\n",
       "    <tr>\n",
       "      <th>21</th>\n",
       "      <td>6.189121</td>\n",
       "      <td>9</td>\n",
       "      <td>19.003566</td>\n",
       "      <td>34.330892</td>\n",
       "      <td>7.976314</td>\n",
       "      <td>3868.210554</td>\n",
       "    </tr>\n",
       "    <tr>\n",
       "      <th>22</th>\n",
       "      <td>5.494202</td>\n",
       "      <td>3</td>\n",
       "      <td>18.993412</td>\n",
       "      <td>34.312549</td>\n",
       "      <td>7.942241</td>\n",
       "      <td>3433.875171</td>\n",
       "    </tr>\n",
       "    <tr>\n",
       "      <th>23</th>\n",
       "      <td>5.042440</td>\n",
       "      <td>10</td>\n",
       "      <td>19.023137</td>\n",
       "      <td>34.366248</td>\n",
       "      <td>8.036919</td>\n",
       "      <td>3151.528706</td>\n",
       "    </tr>\n",
       "    <tr>\n",
       "      <th>24</th>\n",
       "      <td>4.623814</td>\n",
       "      <td>7</td>\n",
       "      <td>18.999850</td>\n",
       "      <td>34.324180</td>\n",
       "      <td>7.942921</td>\n",
       "      <td>2889.879233</td>\n",
       "    </tr>\n",
       "    <tr>\n",
       "      <th>25</th>\n",
       "      <td>5.993285</td>\n",
       "      <td>8</td>\n",
       "      <td>18.992252</td>\n",
       "      <td>34.310453</td>\n",
       "      <td>8.046374</td>\n",
       "      <td>3745.803130</td>\n",
       "    </tr>\n",
       "    <tr>\n",
       "      <th>26</th>\n",
       "      <td>6.569248</td>\n",
       "      <td>7</td>\n",
       "      <td>18.992818</td>\n",
       "      <td>34.311476</td>\n",
       "      <td>7.810502</td>\n",
       "      <td>4105.783602</td>\n",
       "    </tr>\n",
       "    <tr>\n",
       "      <th>27</th>\n",
       "      <td>4.883521</td>\n",
       "      <td>8</td>\n",
       "      <td>19.000887</td>\n",
       "      <td>34.326053</td>\n",
       "      <td>8.020377</td>\n",
       "      <td>3052.196725</td>\n",
       "    </tr>\n",
       "    <tr>\n",
       "      <th>28</th>\n",
       "      <td>7.782315</td>\n",
       "      <td>6</td>\n",
       "      <td>18.995294</td>\n",
       "      <td>34.315949</td>\n",
       "      <td>7.991902</td>\n",
       "      <td>4863.939478</td>\n",
       "    </tr>\n",
       "    <tr>\n",
       "      <th>29</th>\n",
       "      <td>4.888762</td>\n",
       "      <td>5</td>\n",
       "      <td>18.982697</td>\n",
       "      <td>34.293191</td>\n",
       "      <td>7.849033</td>\n",
       "      <td>3055.481603</td>\n",
       "    </tr>\n",
       "    <tr>\n",
       "      <th>...</th>\n",
       "      <td>...</td>\n",
       "      <td>...</td>\n",
       "      <td>...</td>\n",
       "      <td>...</td>\n",
       "      <td>...</td>\n",
       "      <td>...</td>\n",
       "    </tr>\n",
       "    <tr>\n",
       "      <th>61</th>\n",
       "      <td>3.500404</td>\n",
       "      <td>10</td>\n",
       "      <td>19.011788</td>\n",
       "      <td>34.345746</td>\n",
       "      <td>7.901248</td>\n",
       "      <td>2187.754762</td>\n",
       "    </tr>\n",
       "    <tr>\n",
       "      <th>62</th>\n",
       "      <td>7.284467</td>\n",
       "      <td>8</td>\n",
       "      <td>19.009021</td>\n",
       "      <td>34.340747</td>\n",
       "      <td>8.016071</td>\n",
       "      <td>4552.804517</td>\n",
       "    </tr>\n",
       "    <tr>\n",
       "      <th>63</th>\n",
       "      <td>2.498036</td>\n",
       "      <td>3</td>\n",
       "      <td>19.006267</td>\n",
       "      <td>34.335772</td>\n",
       "      <td>7.830438</td>\n",
       "      <td>1561.283248</td>\n",
       "    </tr>\n",
       "    <tr>\n",
       "      <th>64</th>\n",
       "      <td>2.729646</td>\n",
       "      <td>4</td>\n",
       "      <td>19.002510</td>\n",
       "      <td>34.328984</td>\n",
       "      <td>7.984566</td>\n",
       "      <td>1706.038874</td>\n",
       "    </tr>\n",
       "    <tr>\n",
       "      <th>65</th>\n",
       "      <td>7.245483</td>\n",
       "      <td>13</td>\n",
       "      <td>19.005526</td>\n",
       "      <td>34.334434</td>\n",
       "      <td>7.943576</td>\n",
       "      <td>4528.456954</td>\n",
       "    </tr>\n",
       "    <tr>\n",
       "      <th>66</th>\n",
       "      <td>9.371308</td>\n",
       "      <td>9</td>\n",
       "      <td>19.009508</td>\n",
       "      <td>34.341626</td>\n",
       "      <td>7.811352</td>\n",
       "      <td>5857.064801</td>\n",
       "    </tr>\n",
       "    <tr>\n",
       "      <th>67</th>\n",
       "      <td>7.163182</td>\n",
       "      <td>2</td>\n",
       "      <td>18.992855</td>\n",
       "      <td>34.311542</td>\n",
       "      <td>7.964816</td>\n",
       "      <td>4476.999404</td>\n",
       "    </tr>\n",
       "    <tr>\n",
       "      <th>68</th>\n",
       "      <td>6.673271</td>\n",
       "      <td>6</td>\n",
       "      <td>19.018917</td>\n",
       "      <td>34.358625</td>\n",
       "      <td>8.030425</td>\n",
       "      <td>4170.800343</td>\n",
       "    </tr>\n",
       "    <tr>\n",
       "      <th>69</th>\n",
       "      <td>4.338101</td>\n",
       "      <td>8</td>\n",
       "      <td>19.013953</td>\n",
       "      <td>34.349657</td>\n",
       "      <td>7.867871</td>\n",
       "      <td>2711.305983</td>\n",
       "    </tr>\n",
       "    <tr>\n",
       "      <th>70</th>\n",
       "      <td>6.758804</td>\n",
       "      <td>4</td>\n",
       "      <td>19.001134</td>\n",
       "      <td>34.326498</td>\n",
       "      <td>7.854277</td>\n",
       "      <td>4224.258808</td>\n",
       "    </tr>\n",
       "    <tr>\n",
       "      <th>71</th>\n",
       "      <td>6.024569</td>\n",
       "      <td>4</td>\n",
       "      <td>19.003750</td>\n",
       "      <td>34.331224</td>\n",
       "      <td>8.114750</td>\n",
       "      <td>3765.365559</td>\n",
       "    </tr>\n",
       "    <tr>\n",
       "      <th>72</th>\n",
       "      <td>4.909739</td>\n",
       "      <td>12</td>\n",
       "      <td>19.014645</td>\n",
       "      <td>34.350907</td>\n",
       "      <td>8.121254</td>\n",
       "      <td>3068.587208</td>\n",
       "    </tr>\n",
       "    <tr>\n",
       "      <th>73</th>\n",
       "      <td>4.681495</td>\n",
       "      <td>6</td>\n",
       "      <td>18.987578</td>\n",
       "      <td>34.302008</td>\n",
       "      <td>8.015859</td>\n",
       "      <td>2925.934292</td>\n",
       "    </tr>\n",
       "    <tr>\n",
       "      <th>74</th>\n",
       "      <td>6.831156</td>\n",
       "      <td>4</td>\n",
       "      <td>18.992973</td>\n",
       "      <td>34.311756</td>\n",
       "      <td>7.823758</td>\n",
       "      <td>4269.476147</td>\n",
       "    </tr>\n",
       "    <tr>\n",
       "      <th>75</th>\n",
       "      <td>2.871195</td>\n",
       "      <td>8</td>\n",
       "      <td>19.008673</td>\n",
       "      <td>34.340118</td>\n",
       "      <td>8.026017</td>\n",
       "      <td>1794.485680</td>\n",
       "    </tr>\n",
       "    <tr>\n",
       "      <th>76</th>\n",
       "      <td>6.610231</td>\n",
       "      <td>6</td>\n",
       "      <td>18.999067</td>\n",
       "      <td>34.322765</td>\n",
       "      <td>8.016208</td>\n",
       "      <td>4131.392789</td>\n",
       "    </tr>\n",
       "    <tr>\n",
       "      <th>77</th>\n",
       "      <td>4.886940</td>\n",
       "      <td>4</td>\n",
       "      <td>19.012634</td>\n",
       "      <td>34.347274</td>\n",
       "      <td>7.848153</td>\n",
       "      <td>3054.339932</td>\n",
       "    </tr>\n",
       "    <tr>\n",
       "      <th>78</th>\n",
       "      <td>6.173247</td>\n",
       "      <td>8</td>\n",
       "      <td>18.973138</td>\n",
       "      <td>34.275922</td>\n",
       "      <td>7.981258</td>\n",
       "      <td>3858.277668</td>\n",
       "    </tr>\n",
       "    <tr>\n",
       "      <th>79</th>\n",
       "      <td>7.081205</td>\n",
       "      <td>7</td>\n",
       "      <td>18.990943</td>\n",
       "      <td>34.308087</td>\n",
       "      <td>8.218333</td>\n",
       "      <td>4425.759016</td>\n",
       "    </tr>\n",
       "    <tr>\n",
       "      <th>80</th>\n",
       "      <td>3.863863</td>\n",
       "      <td>5</td>\n",
       "      <td>19.007092</td>\n",
       "      <td>34.337263</td>\n",
       "      <td>8.034337</td>\n",
       "      <td>2414.910190</td>\n",
       "    </tr>\n",
       "    <tr>\n",
       "      <th>81</th>\n",
       "      <td>5.877333</td>\n",
       "      <td>3</td>\n",
       "      <td>19.020948</td>\n",
       "      <td>34.362294</td>\n",
       "      <td>8.193368</td>\n",
       "      <td>3673.322708</td>\n",
       "    </tr>\n",
       "    <tr>\n",
       "      <th>82</th>\n",
       "      <td>4.247793</td>\n",
       "      <td>2</td>\n",
       "      <td>19.011253</td>\n",
       "      <td>34.344779</td>\n",
       "      <td>7.943916</td>\n",
       "      <td>2654.873131</td>\n",
       "    </tr>\n",
       "    <tr>\n",
       "      <th>83</th>\n",
       "      <td>6.238447</td>\n",
       "      <td>3</td>\n",
       "      <td>19.003772</td>\n",
       "      <td>34.331265</td>\n",
       "      <td>8.051961</td>\n",
       "      <td>3899.024588</td>\n",
       "    </tr>\n",
       "    <tr>\n",
       "      <th>84</th>\n",
       "      <td>4.828970</td>\n",
       "      <td>3</td>\n",
       "      <td>19.011092</td>\n",
       "      <td>34.344488</td>\n",
       "      <td>8.098093</td>\n",
       "      <td>3018.121251</td>\n",
       "    </tr>\n",
       "    <tr>\n",
       "      <th>85</th>\n",
       "      <td>4.246612</td>\n",
       "      <td>4</td>\n",
       "      <td>19.006389</td>\n",
       "      <td>34.335991</td>\n",
       "      <td>7.961054</td>\n",
       "      <td>2654.105814</td>\n",
       "    </tr>\n",
       "    <tr>\n",
       "      <th>86</th>\n",
       "      <td>3.294150</td>\n",
       "      <td>4</td>\n",
       "      <td>18.996412</td>\n",
       "      <td>34.317967</td>\n",
       "      <td>8.114626</td>\n",
       "      <td>2058.853475</td>\n",
       "    </tr>\n",
       "    <tr>\n",
       "      <th>87</th>\n",
       "      <td>4.236625</td>\n",
       "      <td>6</td>\n",
       "      <td>18.982683</td>\n",
       "      <td>34.293166</td>\n",
       "      <td>7.918571</td>\n",
       "      <td>2647.898828</td>\n",
       "    </tr>\n",
       "    <tr>\n",
       "      <th>88</th>\n",
       "      <td>4.782113</td>\n",
       "      <td>5</td>\n",
       "      <td>19.018912</td>\n",
       "      <td>34.358616</td>\n",
       "      <td>8.041873</td>\n",
       "      <td>2988.798962</td>\n",
       "    </tr>\n",
       "    <tr>\n",
       "      <th>89</th>\n",
       "      <td>7.236704</td>\n",
       "      <td>5</td>\n",
       "      <td>18.996684</td>\n",
       "      <td>34.318459</td>\n",
       "      <td>8.043789</td>\n",
       "      <td>4522.941191</td>\n",
       "    </tr>\n",
       "    <tr>\n",
       "      <th>90</th>\n",
       "      <td>3.517502</td>\n",
       "      <td>8</td>\n",
       "      <td>19.002087</td>\n",
       "      <td>34.328221</td>\n",
       "      <td>8.198919</td>\n",
       "      <td>2198.442249</td>\n",
       "    </tr>\n",
       "  </tbody>\n",
       "</table>\n",
       "<p>91 rows × 6 columns</p>\n",
       "</div>"
      ],
      "text/plain": [
       "    EchoTime  WaterTemp  Clconcentration   Salinity        pH     Distance\n",
       "0   4.018358          3        19.013137  34.348183  8.042168  2511.462490\n",
       "1   5.850474          5        19.017350  34.355793  7.956494  3656.544021\n",
       "2   3.575282          6        19.004284  34.332190  8.020561  2234.559271\n",
       "3   3.808030          6        18.989512  34.305502  7.843142  2380.011199\n",
       "4   5.167752          4        19.015003  34.351554  7.998218  3229.850749\n",
       "5   6.916485          6        19.001236  34.326682  8.010355  4322.799020\n",
       "6   3.494567          4        18.996399  34.317944  7.916522  2184.125647\n",
       "7   6.862207          7        18.988974  34.304530  7.880541  4288.874940\n",
       "8   2.854633          9        18.989140  34.304831  7.927781  1784.132391\n",
       "9   7.299301          5        18.990197  34.306740  8.000301  4562.070035\n",
       "10  2.245878          8        18.991149  34.308460  7.965927  1403.682797\n",
       "11  5.041025         11        19.019720  34.360075  8.034199  3150.636846\n",
       "12  2.154123          6        19.017218  34.355554  7.962677  1346.335509\n",
       "13  8.499913          8        18.990391  34.307091  7.998433  5312.460902\n",
       "14  5.301814         10        19.011570  34.345352  8.260425  3313.624139\n",
       "15  5.555697          8        18.994056  34.313711  8.067236  3472.326743\n",
       "16  7.890938          8        19.006757  34.336658  8.013955  4931.831722\n",
       "17  5.880709          4        18.993972  34.313560  7.897557  3675.432369\n",
       "18  4.779159          4        18.983340  34.294354  7.971236  2986.974377\n",
       "19  6.178652          4        19.012497  34.347026  7.914928  3861.642291\n",
       "20  5.055118          5        18.984689  34.296789  8.113464  3159.441314\n",
       "21  6.189121          9        19.003566  34.330892  7.976314  3868.210554\n",
       "22  5.494202          3        18.993412  34.312549  7.942241  3433.875171\n",
       "23  5.042440         10        19.023137  34.366248  8.036919  3151.528706\n",
       "24  4.623814          7        18.999850  34.324180  7.942921  2889.879233\n",
       "25  5.993285          8        18.992252  34.310453  8.046374  3745.803130\n",
       "26  6.569248          7        18.992818  34.311476  7.810502  4105.783602\n",
       "27  4.883521          8        19.000887  34.326053  8.020377  3052.196725\n",
       "28  7.782315          6        18.995294  34.315949  7.991902  4863.939478\n",
       "29  4.888762          5        18.982697  34.293191  7.849033  3055.481603\n",
       "..       ...        ...              ...        ...       ...          ...\n",
       "61  3.500404         10        19.011788  34.345746  7.901248  2187.754762\n",
       "62  7.284467          8        19.009021  34.340747  8.016071  4552.804517\n",
       "63  2.498036          3        19.006267  34.335772  7.830438  1561.283248\n",
       "64  2.729646          4        19.002510  34.328984  7.984566  1706.038874\n",
       "65  7.245483         13        19.005526  34.334434  7.943576  4528.456954\n",
       "66  9.371308          9        19.009508  34.341626  7.811352  5857.064801\n",
       "67  7.163182          2        18.992855  34.311542  7.964816  4476.999404\n",
       "68  6.673271          6        19.018917  34.358625  8.030425  4170.800343\n",
       "69  4.338101          8        19.013953  34.349657  7.867871  2711.305983\n",
       "70  6.758804          4        19.001134  34.326498  7.854277  4224.258808\n",
       "71  6.024569          4        19.003750  34.331224  8.114750  3765.365559\n",
       "72  4.909739         12        19.014645  34.350907  8.121254  3068.587208\n",
       "73  4.681495          6        18.987578  34.302008  8.015859  2925.934292\n",
       "74  6.831156          4        18.992973  34.311756  7.823758  4269.476147\n",
       "75  2.871195          8        19.008673  34.340118  8.026017  1794.485680\n",
       "76  6.610231          6        18.999067  34.322765  8.016208  4131.392789\n",
       "77  4.886940          4        19.012634  34.347274  7.848153  3054.339932\n",
       "78  6.173247          8        18.973138  34.275922  7.981258  3858.277668\n",
       "79  7.081205          7        18.990943  34.308087  8.218333  4425.759016\n",
       "80  3.863863          5        19.007092  34.337263  8.034337  2414.910190\n",
       "81  5.877333          3        19.020948  34.362294  8.193368  3673.322708\n",
       "82  4.247793          2        19.011253  34.344779  7.943916  2654.873131\n",
       "83  6.238447          3        19.003772  34.331265  8.051961  3899.024588\n",
       "84  4.828970          3        19.011092  34.344488  8.098093  3018.121251\n",
       "85  4.246612          4        19.006389  34.335991  7.961054  2654.105814\n",
       "86  3.294150          4        18.996412  34.317967  8.114626  2058.853475\n",
       "87  4.236625          6        18.982683  34.293166  7.918571  2647.898828\n",
       "88  4.782113          5        19.018912  34.358616  8.041873  2988.798962\n",
       "89  7.236704          5        18.996684  34.318459  8.043789  4522.941191\n",
       "90  3.517502          8        19.002087  34.328221  8.198919  2198.442249\n",
       "\n",
       "[91 rows x 6 columns]"
      ]
     },
     "execution_count": 2,
     "metadata": {},
     "output_type": "execute_result"
    }
   ],
   "source": [
    "sonar_data = pd.read_csv('Ex07_Sonar_Regreesion.csv')\n",
    "sonar_data = sonar_data[sonar_data['pH']>0]\n",
    "sonar_data"
   ]
  },
  {
   "cell_type": "code",
   "execution_count": 3,
   "metadata": {
    "collapsed": false,
    "deletable": true,
    "editable": true
   },
   "outputs": [
    {
     "data": {
      "text/plain": [
       "EchoTime           float64\n",
       "WaterTemp            int64\n",
       "Clconcentration    float64\n",
       "Salinity           float64\n",
       "pH                 float64\n",
       "Distance           float64\n",
       "dtype: object"
      ]
     },
     "execution_count": 3,
     "metadata": {},
     "output_type": "execute_result"
    }
   ],
   "source": [
    "sonar_data.dtypes"
   ]
  },
  {
   "cell_type": "code",
   "execution_count": 4,
   "metadata": {
    "collapsed": true
   },
   "outputs": [],
   "source": [
    "columns = sonar_data.describe(include=['float64', 'int64']).columns\n",
    "for col in columns:\n",
    "    sonar_data[col] = sonar_data[col].apply(lambda x :(x-sonar_data[col].mean())/sonar_data[col].std())\n",
    "#     kepler_data[col] = kepler_data[col].apply(lambda x :print(x))"
   ]
  },
  {
   "cell_type": "code",
   "execution_count": 5,
   "metadata": {
    "collapsed": false,
    "deletable": true,
    "editable": true
   },
   "outputs": [
    {
     "data": {
      "image/png": "[encoded data removed]",
      "text/plain": [
       "<matplotlib.figure.Figure at 0x7fee62602c88>"
      ]
     },
     "metadata": {},
     "output_type": "display_data"
    },
    {
     "data": {
      "text/html": [
       "<div>\n",
       "<table border=\"1\" class=\"dataframe\">\n",
       "  <thead>\n",
       "    <tr style=\"text-align: right;\">\n",
       "      <th></th>\n",
       "      <th>EchoTime</th>\n",
       "      <th>WaterTemp</th>\n",
       "      <th>Clconcentration</th>\n",
       "      <th>Salinity</th>\n",
       "      <th>pH</th>\n",
       "      <th>Distance</th>\n",
       "    </tr>\n",
       "  </thead>\n",
       "  <tbody>\n",
       "    <tr>\n",
       "      <th>EchoTime</th>\n",
       "      <td>1.000000</td>\n",
       "      <td>-0.033243</td>\n",
       "      <td>-0.057243</td>\n",
       "      <td>-0.057243</td>\n",
       "      <td>0.103163</td>\n",
       "      <td>1.000000</td>\n",
       "    </tr>\n",
       "    <tr>\n",
       "      <th>WaterTemp</th>\n",
       "      <td>-0.033243</td>\n",
       "      <td>1.000000</td>\n",
       "      <td>0.126242</td>\n",
       "      <td>0.126242</td>\n",
       "      <td>-0.053225</td>\n",
       "      <td>-0.033242</td>\n",
       "    </tr>\n",
       "    <tr>\n",
       "      <th>Clconcentration</th>\n",
       "      <td>-0.057243</td>\n",
       "      <td>0.126242</td>\n",
       "      <td>1.000000</td>\n",
       "      <td>1.000000</td>\n",
       "      <td>0.086821</td>\n",
       "      <td>-0.057245</td>\n",
       "    </tr>\n",
       "    <tr>\n",
       "      <th>Salinity</th>\n",
       "      <td>-0.057243</td>\n",
       "      <td>0.126242</td>\n",
       "      <td>1.000000</td>\n",
       "      <td>1.000000</td>\n",
       "      <td>0.086821</td>\n",
       "      <td>-0.057245</td>\n",
       "    </tr>\n",
       "    <tr>\n",
       "      <th>pH</th>\n",
       "      <td>0.103163</td>\n",
       "      <td>-0.053225</td>\n",
       "      <td>0.086821</td>\n",
       "      <td>0.086821</td>\n",
       "      <td>1.000000</td>\n",
       "      <td>0.103162</td>\n",
       "    </tr>\n",
       "    <tr>\n",
       "      <th>Distance</th>\n",
       "      <td>1.000000</td>\n",
       "      <td>-0.033242</td>\n",
       "      <td>-0.057245</td>\n",
       "      <td>-0.057245</td>\n",
       "      <td>0.103162</td>\n",
       "      <td>1.000000</td>\n",
       "    </tr>\n",
       "  </tbody>\n",
       "</table>\n",
       "</div>"
      ],
      "text/plain": [
       "                 EchoTime  WaterTemp  Clconcentration  Salinity        pH  \\\n",
       "EchoTime         1.000000  -0.033243        -0.057243 -0.057243  0.103163   \n",
       "WaterTemp       -0.033243   1.000000         0.126242  0.126242 -0.053225   \n",
       "Clconcentration -0.057243   0.126242         1.000000  1.000000  0.086821   \n",
       "Salinity        -0.057243   0.126242         1.000000  1.000000  0.086821   \n",
       "pH               0.103163  -0.053225         0.086821  0.086821  1.000000   \n",
       "Distance         1.000000  -0.033242        -0.057245 -0.057245  0.103162   \n",
       "\n",
       "                 Distance  \n",
       "EchoTime         1.000000  \n",
       "WaterTemp       -0.033242  \n",
       "Clconcentration -0.057245  \n",
       "Salinity        -0.057245  \n",
       "pH               0.103162  \n",
       "Distance         1.000000  "
      ]
     },
     "execution_count": 5,
     "metadata": {},
     "output_type": "execute_result"
    }
   ],
   "source": [
    "correlations = sonar_data.corr()\n",
    "fig = plt.figure()\n",
    "names = sonar_data.columns\n",
    "ax = fig.add_subplot(1,1,1)\n",
    "cax = ax.matshow(correlations, vmin=-1, vmax=1)\n",
    "fig.colorbar(cax)\n",
    "ticks = np.arange(0,len(names),1)\n",
    "ax.set_xticks(ticks)\n",
    "ax.set_yticks(ticks)\n",
    "ax.set_xticklabels(names)\n",
    "ax.set_yticklabels(names)\n",
    "plt.show()\n",
    "correlations"
   ]
  },
  {
   "cell_type": "code",
   "execution_count": 6,
   "metadata": {
    "collapsed": false,
    "deletable": true,
    "editable": true
   },
   "outputs": [
    {
     "data": {
      "image/png": "[encoded data removed]",
      "text/plain": [
       "<matplotlib.figure.Figure at 0x7fee6281ac50>"
      ]
     },
     "metadata": {},
     "output_type": "display_data"
    }
   ],
   "source": [
    "scatter_matrix(sonar_data, diagonal='kde', figsize=(10, 8))\n",
    "plt.show()"
   ]
  },
  {
   "cell_type": "code",
   "execution_count": 49,
   "metadata": {
    "collapsed": true,
    "deletable": true,
    "editable": true
   },
   "outputs": [],
   "source": [
    "splitend = int(0.8 * len(sonar_data))\n",
    "sonar_data_shuffled = sonar_data.sample(frac=1)\n",
    "train, test = sonar_data_shuffled[:splitend], sonar_data_shuffled[splitend:]"
   ]
  },
  {
   "cell_type": "code",
   "execution_count": 50,
   "metadata": {
    "collapsed": true,
    "deletable": true,
    "editable": true
   },
   "outputs": [],
   "source": [
    "x_train = train.ix[:, :-1]\n",
    "y_train = train.ix[:, -1]\n",
    "x_test = test.ix[:, :-1]\n",
    "y_test = test.ix[:, -1]"
   ]
  },
  {
   "cell_type": "code",
   "execution_count": 9,
   "metadata": {
    "collapsed": false,
    "deletable": true,
    "editable": true
   },
   "outputs": [],
   "source": [
    "model1 = sm.ols(formula='Distance ~ EchoTime +WaterTemp + Clconcentration + Salinity + pH', data = train).fit()"
   ]
  },
  {
   "cell_type": "code",
   "execution_count": 10,
   "metadata": {
    "collapsed": false,
    "deletable": true,
    "editable": true
   },
   "outputs": [
    {
     "data": {
      "text/html": [
       "<table class=\"simpletable\">\n",
       "<caption>OLS Regression Results</caption>\n",
       "<tr>\n",
       "  <th>Dep. Variable:</th>        <td>Distance</td>     <th>  R-squared:         </th> <td>   1.000</td> \n",
       "</tr>\n",
       "<tr>\n",
       "  <th>Model:</th>                   <td>OLS</td>       <th>  Adj. R-squared:    </th> <td>   1.000</td> \n",
       "</tr>\n",
       "<tr>\n",
       "  <th>Method:</th>             <td>Least Squares</td>  <th>  F-statistic:       </th> <td>8.276e+10</td>\n",
       "</tr>\n",
       "<tr>\n",
       "  <th>Date:</th>             <td>Fri, 31 Mar 2017</td> <th>  Prob (F-statistic):</th> <td>7.41e-322</td>\n",
       "</tr>\n",
       "<tr>\n",
       "  <th>Time:</th>                 <td>17:00:08</td>     <th>  Log-Likelihood:    </th> <td>  707.87</td> \n",
       "</tr>\n",
       "<tr>\n",
       "  <th>No. Observations:</th>      <td>    72</td>      <th>  AIC:               </th> <td>  -1404.</td> \n",
       "</tr>\n",
       "<tr>\n",
       "  <th>Df Residuals:</th>          <td>    66</td>      <th>  BIC:               </th> <td>  -1390.</td> \n",
       "</tr>\n",
       "<tr>\n",
       "  <th>Df Model:</th>              <td>     5</td>      <th>                     </th>     <td> </td>    \n",
       "</tr>\n",
       "<tr>\n",
       "  <th>Covariance Type:</th>      <td>nonrobust</td>    <th>                     </th>     <td> </td>    \n",
       "</tr>\n",
       "</table>\n",
       "<table class=\"simpletable\">\n",
       "<tr>\n",
       "         <td></td>            <th>coef</th>     <th>std err</th>      <th>t</th>      <th>P>|t|</th>  <th>[0.025</th>    <th>0.975]</th>  \n",
       "</tr>\n",
       "<tr>\n",
       "  <th>Intercept</th>       <td>-2.967e-07</td> <td> 1.62e-06</td> <td>   -0.183</td> <td> 0.855</td> <td>-3.53e-06</td> <td> 2.94e-06</td>\n",
       "</tr>\n",
       "<tr>\n",
       "  <th>EchoTime</th>        <td>    1.0000</td> <td> 1.58e-06</td> <td> 6.34e+05</td> <td> 0.000</td> <td>    1.000</td> <td>    1.000</td>\n",
       "</tr>\n",
       "<tr>\n",
       "  <th>WaterTemp</th>       <td> 4.859e-07</td> <td>  1.7e-06</td> <td>    0.286</td> <td> 0.776</td> <td>-2.91e-06</td> <td> 3.88e-06</td>\n",
       "</tr>\n",
       "<tr>\n",
       "  <th>Clconcentration</th> <td>-4.191e+05</td> <td> 4.94e+05</td> <td>   -0.849</td> <td> 0.399</td> <td> -1.4e+06</td> <td> 5.66e+05</td>\n",
       "</tr>\n",
       "<tr>\n",
       "  <th>Salinity</th>        <td> 4.191e+05</td> <td> 4.94e+05</td> <td>    0.849</td> <td> 0.399</td> <td>-5.66e+05</td> <td>  1.4e+06</td>\n",
       "</tr>\n",
       "<tr>\n",
       "  <th>pH</th>              <td>-3.683e-07</td> <td> 1.68e-06</td> <td>   -0.219</td> <td> 0.827</td> <td>-3.72e-06</td> <td> 2.98e-06</td>\n",
       "</tr>\n",
       "</table>\n",
       "<table class=\"simpletable\">\n",
       "<tr>\n",
       "  <th>Omnibus:</th>       <td> 0.358</td> <th>  Durbin-Watson:     </th> <td>   2.228</td>\n",
       "</tr>\n",
       "<tr>\n",
       "  <th>Prob(Omnibus):</th> <td> 0.836</td> <th>  Jarque-Bera (JB):  </th> <td>   0.531</td>\n",
       "</tr>\n",
       "<tr>\n",
       "  <th>Skew:</th>          <td>-0.087</td> <th>  Prob(JB):          </th> <td>   0.767</td>\n",
       "</tr>\n",
       "<tr>\n",
       "  <th>Kurtosis:</th>      <td> 2.617</td> <th>  Cond. No.          </th> <td>6.27e+11</td>\n",
       "</tr>\n",
       "</table>"
      ],
      "text/plain": [
       "<class 'statsmodels.iolib.summary.Summary'>\n",
       "\"\"\"\n",
       "                            OLS Regression Results                            \n",
       "==============================================================================\n",
       "Dep. Variable:               Distance   R-squared:                       1.000\n",
       "Model:                            OLS   Adj. R-squared:                  1.000\n",
       "Method:                 Least Squares   F-statistic:                 8.276e+10\n",
       "Date:                Fri, 31 Mar 2017   Prob (F-statistic):          7.41e-322\n",
       "Time:                        17:00:08   Log-Likelihood:                 707.87\n",
       "No. Observations:                  72   AIC:                            -1404.\n",
       "Df Residuals:                      66   BIC:                            -1390.\n",
       "Df Model:                           5                                         \n",
       "Covariance Type:            nonrobust                                         \n",
       "===================================================================================\n",
       "                      coef    std err          t      P>|t|      [0.025      0.975]\n",
       "-----------------------------------------------------------------------------------\n",
       "Intercept       -2.967e-07   1.62e-06     -0.183      0.855   -3.53e-06    2.94e-06\n",
       "EchoTime            1.0000   1.58e-06   6.34e+05      0.000       1.000       1.000\n",
       "WaterTemp        4.859e-07    1.7e-06      0.286      0.776   -2.91e-06    3.88e-06\n",
       "Clconcentration -4.191e+05   4.94e+05     -0.849      0.399    -1.4e+06    5.66e+05\n",
       "Salinity         4.191e+05   4.94e+05      0.849      0.399   -5.66e+05     1.4e+06\n",
       "pH              -3.683e-07   1.68e-06     -0.219      0.827   -3.72e-06    2.98e-06\n",
       "==============================================================================\n",
       "Omnibus:                        0.358   Durbin-Watson:                   2.228\n",
       "Prob(Omnibus):                  0.836   Jarque-Bera (JB):                0.531\n",
       "Skew:                          -0.087   Prob(JB):                        0.767\n",
       "Kurtosis:                       2.617   Cond. No.                     6.27e+11\n",
       "==============================================================================\n",
       "\n",
       "Warnings:\n",
       "[1] Standard Errors assume that the covariance matrix of the errors is correctly specified.\n",
       "[2] The smallest eigenvalue is 3.78e-22. This might indicate that there are\n",
       "strong multicollinearity problems or that the design matrix is singular.\n",
       "\"\"\""
      ]
     },
     "execution_count": 10,
     "metadata": {},
     "output_type": "execute_result"
    }
   ],
   "source": [
    "model1.summary()"
   ]
  },
  {
   "cell_type": "code",
   "execution_count": 11,
   "metadata": {
    "collapsed": true,
    "deletable": true,
    "editable": true
   },
   "outputs": [],
   "source": [
    "predictions1 = model1.predict(x_test)"
   ]
  },
  {
   "cell_type": "code",
   "execution_count": 12,
   "metadata": {
    "collapsed": false,
    "deletable": true,
    "editable": true
   },
   "outputs": [
    {
     "data": {
      "text/plain": [
       "1.3817184897236024e-05"
      ]
     },
     "execution_count": 12,
     "metadata": {},
     "output_type": "execute_result"
    }
   ],
   "source": [
    "np.mean((y_test - predictions1)**2)**0.5"
   ]
  },
  {
   "cell_type": "code",
   "execution_count": 13,
   "metadata": {
    "collapsed": false,
    "deletable": true,
    "editable": true
   },
   "outputs": [
    {
     "data": {
      "image/png": "[encoded data removed]",
      "text/plain": [
       "<matplotlib.figure.Figure at 0x7fee60104668>"
      ]
     },
     "metadata": {},
     "output_type": "display_data"
    }
   ],
   "source": [
    "plt.scatter(y_test, predictions1)\n",
    "plt.plot(y_test, predictions1)\n",
    "plt.show()"
   ]
  },
  {
   "cell_type": "code",
   "execution_count": 14,
   "metadata": {
    "collapsed": false,
    "deletable": true,
    "editable": true
   },
   "outputs": [],
   "source": [
    "residuals = y_test - predictions1"
   ]
  },
  {
   "cell_type": "code",
   "execution_count": 15,
   "metadata": {
    "collapsed": false,
    "deletable": true,
    "editable": true
   },
   "outputs": [
    {
     "data": {
      "image/png": "[encoded data removed]",
      "text/plain": [
       "<matplotlib.figure.Figure at 0x7fee5fa274e0>"
      ]
     },
     "metadata": {},
     "output_type": "display_data"
    }
   ],
   "source": [
    "plt.hist(residuals, bins=5)\n",
    "plt.show()"
   ]
  },
  {
   "cell_type": "code",
   "execution_count": 16,
   "metadata": {
    "collapsed": false,
    "deletable": true,
    "editable": true
   },
   "outputs": [
    {
     "data": {
      "image/png": "[encoded data removed]",
      "text/plain": [
       "<matplotlib.figure.Figure at 0x7fee5f846400>"
      ]
     },
     "metadata": {},
     "output_type": "display_data"
    }
   ],
   "source": [
    "residuals.plot(kind = 'box')\n",
    "plt.show()"
   ]
  },
  {
   "cell_type": "code",
   "execution_count": 17,
   "metadata": {
    "collapsed": false,
    "deletable": true,
    "editable": true
   },
   "outputs": [
    {
     "data": {
      "text/plain": [
       "[('F statistic', 0.84235969977907854), ('p-value', 0.67925737398147223)]"
      ]
     },
     "execution_count": 17,
     "metadata": {},
     "output_type": "execute_result"
    }
   ],
   "source": [
    "name = ['F statistic', 'p-value']\n",
    "test = sms.het_goldfeldquandt(model1.resid, model1.model.exog)\n",
    "list(zip(name, test))"
   ]
  },
  {
   "cell_type": "markdown",
   "metadata": {
    "deletable": true,
    "editable": true
   },
   "source": [
    "## Model with only echo time"
   ]
  },
  {
   "cell_type": "code",
   "execution_count": 18,
   "metadata": {
    "collapsed": true,
    "deletable": true,
    "editable": true
   },
   "outputs": [],
   "source": [
    "model2 = sm.ols(formula='Distance~EchoTime', data=train).fit()"
   ]
  },
  {
   "cell_type": "code",
   "execution_count": 19,
   "metadata": {
    "collapsed": true,
    "deletable": true,
    "editable": true
   },
   "outputs": [],
   "source": [
    "predictions2 = model2.predict(x_test)"
   ]
  },
  {
   "cell_type": "code",
   "execution_count": 20,
   "metadata": {
    "collapsed": false,
    "deletable": true,
    "editable": true
   },
   "outputs": [
    {
     "data": {
      "text/plain": [
       "9.8027827852566316e-06"
      ]
     },
     "execution_count": 20,
     "metadata": {},
     "output_type": "execute_result"
    }
   ],
   "source": [
    "np.mean((y_test - predictions2)**2)**0.5"
   ]
  },
  {
   "cell_type": "code",
   "execution_count": 21,
   "metadata": {
    "collapsed": false,
    "deletable": true,
    "editable": true
   },
   "outputs": [
    {
     "data": {
      "image/png": "[encoded data removed]",
      "text/plain": [
       "<matplotlib.figure.Figure at 0x7fee5f852e48>"
      ]
     },
     "metadata": {},
     "output_type": "display_data"
    }
   ],
   "source": [
    "plt.scatter(y_test, predictions2)\n",
    "plt.plot(y_test, predictions2)\n",
    "plt.show()"
   ]
  },
  {
   "cell_type": "code",
   "execution_count": 22,
   "metadata": {
    "collapsed": false,
    "deletable": true,
    "editable": true
   },
   "outputs": [
    {
     "data": {
      "image/png": "[encoded data removed]",
      "text/plain": [
       "<matplotlib.figure.Figure at 0x7fee5f7a6908>"
      ]
     },
     "metadata": {},
     "output_type": "display_data"
    }
   ],
   "source": [
    "residuals = y_test - predictions2\n",
    "plt.hist(residuals, bins=5)\n",
    "plt.show()"
   ]
  },
  {
   "cell_type": "code",
   "execution_count": 23,
   "metadata": {
    "collapsed": false,
    "deletable": true,
    "editable": true
   },
   "outputs": [
    {
     "data": {
      "image/png": "[encoded data removed]",
      "text/plain": [
       "<matplotlib.figure.Figure at 0x7fee5de8eb70>"
      ]
     },
     "metadata": {},
     "output_type": "display_data"
    }
   ],
   "source": [
    "residuals.plot(kind='box')\n",
    "plt.show()"
   ]
  },
  {
   "cell_type": "code",
   "execution_count": 24,
   "metadata": {
    "collapsed": false,
    "deletable": true,
    "editable": true
   },
   "outputs": [
    {
     "data": {
      "text/plain": [
       "[('F statistic', 0.84235969977907854), ('p-value', 0.67925737398147223)]"
      ]
     },
     "execution_count": 24,
     "metadata": {},
     "output_type": "execute_result"
    }
   ],
   "source": [
    "name = ['F statistic', 'p-value']\n",
    "test = sms.het_goldfeldquandt(model1.resid, model1.model.exog)\n",
    "list(zip(name, test))"
   ]
  },
  {
   "cell_type": "markdown",
   "metadata": {
    "deletable": true,
    "editable": true
   },
   "source": [
    "## Model dropping pH and WaterTemp"
   ]
  },
  {
   "cell_type": "code",
   "execution_count": 25,
   "metadata": {
    "collapsed": true,
    "deletable": true,
    "editable": true
   },
   "outputs": [],
   "source": [
    "model3 = sm.ols(formula='Distance ~ EchoTime + Clconcentration + Salinity', data = train).fit()"
   ]
  },
  {
   "cell_type": "code",
   "execution_count": 26,
   "metadata": {
    "collapsed": true,
    "deletable": true,
    "editable": true
   },
   "outputs": [],
   "source": [
    "predictions3 = model3.predict(x_test)"
   ]
  },
  {
   "cell_type": "code",
   "execution_count": 27,
   "metadata": {
    "collapsed": false,
    "deletable": true,
    "editable": true
   },
   "outputs": [
    {
     "data": {
      "text/plain": [
       "1.0203908684684139e-05"
      ]
     },
     "execution_count": 27,
     "metadata": {},
     "output_type": "execute_result"
    }
   ],
   "source": [
    "np.mean((y_test - predictions3)**2)**0.5"
   ]
  },
  {
   "cell_type": "code",
   "execution_count": 28,
   "metadata": {
    "collapsed": false,
    "deletable": true,
    "editable": true
   },
   "outputs": [
    {
     "data": {
      "image/png": "[encoded data removed]",
      "text/plain": [
       "<matplotlib.figure.Figure at 0x7fee5de9b4a8>"
      ]
     },
     "metadata": {},
     "output_type": "display_data"
    }
   ],
   "source": [
    "residuals = y_test - predictions3\n",
    "plt.hist(residuals, bins=5)\n",
    "plt.show()"
   ]
  },
  {
   "cell_type": "code",
   "execution_count": 29,
   "metadata": {
    "collapsed": false,
    "deletable": true,
    "editable": true
   },
   "outputs": [
    {
     "data": {
      "image/png": "[encoded data removed]",
      "text/plain": [
       "<matplotlib.figure.Figure at 0x7fee5de8e828>"
      ]
     },
     "metadata": {},
     "output_type": "display_data"
    }
   ],
   "source": [
    "residuals.plot(kind='box')\n",
    "plt.show()"
   ]
  },
  {
   "cell_type": "code",
   "execution_count": 30,
   "metadata": {
    "collapsed": false,
    "deletable": true,
    "editable": true
   },
   "outputs": [
    {
     "data": {
      "text/plain": [
       "[('F statistic', 0.84235969977907854), ('p-value', 0.67925737398147223)]"
      ]
     },
     "execution_count": 30,
     "metadata": {},
     "output_type": "execute_result"
    }
   ],
   "source": [
    "name = ['F statistic', 'p-value']\n",
    "test = sms.het_goldfeldquandt(model1.resid, model1.model.exog)\n",
    "list(zip(name, test))"
   ]
  },
  {
   "cell_type": "markdown",
   "metadata": {
    "collapsed": true,
    "deletable": true,
    "editable": true
   },
   "source": [
    "## Ridge"
   ]
  },
  {
   "cell_type": "code",
   "execution_count": 31,
   "metadata": {
    "collapsed": false,
    "deletable": true,
    "editable": true
   },
   "outputs": [
    {
     "data": {
      "text/plain": [
       "[array([  9.98662153e-01,  -3.97968521e-05,  -5.35266071e-05,\n",
       "         -5.35266074e-05,   1.73866231e-04]),\n",
       " array([  9.98001601e-01,  -5.96621614e-05,  -7.95191242e-05,\n",
       "         -7.95191245e-05,   2.59724414e-04]),\n",
       " array([  9.97341941e-01,  -7.94871639e-05,  -1.05454721e-04,\n",
       "         -1.05454722e-04,   3.45338213e-04]),\n",
       " array([  9.96683170e-01,  -9.92719408e-05,  -1.31333549e-04,\n",
       "         -1.31333549e-04,   4.30708415e-04]),\n",
       " array([  9.96025287e-01,  -1.19016573e-04,  -1.57155757e-04,\n",
       "         -1.57155757e-04,   5.15835803e-04]),\n",
       " array([  9.95368291e-01,  -1.38721142e-04,  -1.82921493e-04,\n",
       "         -1.82921494e-04,   6.00721158e-04]),\n",
       " array([  9.94712178e-01,  -1.58385728e-04,  -2.08630908e-04,\n",
       "         -2.08630908e-04,   6.85365259e-04]),\n",
       " array([  9.94056948e-01,  -1.78010413e-04,  -2.34284149e-04,\n",
       "         -2.34284149e-04,   7.69768880e-04]),\n",
       " array([  9.93402598e-01,  -1.97595276e-04,  -2.59881363e-04,\n",
       "         -2.59881364e-04,   8.53932794e-04]),\n",
       " array([  9.92749128e-01,  -2.17140398e-04,  -2.85422699e-04,\n",
       "         -2.85422699e-04,   9.37857769e-04]),\n",
       " array([  9.92096534e-01,  -2.36645860e-04,  -3.10908302e-04,\n",
       "         -3.10908302e-04,   1.02154457e-03]),\n",
       " array([  9.91444815e-01,  -2.56111742e-04,  -3.36338319e-04,\n",
       "         -3.36338319e-04,   1.10499396e-03]),\n",
       " array([  9.90793969e-01,  -2.75538123e-04,  -3.61712895e-04,\n",
       "         -3.61712896e-04,   1.18820671e-03]),\n",
       " array([  9.90143996e-01,  -2.94925084e-04,  -3.87032177e-04,\n",
       "         -3.87032177e-04,   1.27118356e-03]),\n",
       " array([  9.89494891e-01,  -3.14272705e-04,  -4.12296308e-04,\n",
       "         -4.12296308e-04,   1.35392527e-03]),\n",
       " array([  9.88846655e-01,  -3.33581065e-04,  -4.37505433e-04,\n",
       "         -4.37505433e-04,   1.43643260e-03]),\n",
       " array([  9.88199285e-01,  -3.52850244e-04,  -4.62659696e-04,\n",
       "         -4.62659696e-04,   1.51870629e-03]),\n",
       " array([  9.87552780e-01,  -3.72080321e-04,  -4.87759239e-04,\n",
       "         -4.87759240e-04,   1.60074709e-03]),\n",
       " array([  9.86907137e-01,  -3.91271375e-04,  -5.12804207e-04,\n",
       "         -5.12804207e-04,   1.68255575e-03]),\n",
       " array([  9.86262355e-01,  -4.10423486e-04,  -5.37794741e-04,\n",
       "         -5.37794742e-04,   1.76413299e-03]),\n",
       " array([  9.85618433e-01,  -4.29536733e-04,  -5.62730984e-04,\n",
       "         -5.62730984e-04,   1.84547956e-03]),\n",
       " array([  9.84975367e-01,  -4.48611194e-04,  -5.87613076e-04,\n",
       "         -5.87613076e-04,   1.92659620e-03]),\n",
       " array([  9.84333158e-01,  -4.67646948e-04,  -6.12441159e-04,\n",
       "         -6.12441159e-04,   2.00748363e-03]),\n",
       " array([  9.83691802e-01,  -4.86644074e-04,  -6.37215373e-04,\n",
       "         -6.37215373e-04,   2.08814259e-03]),\n",
       " array([  9.83051298e-01,  -5.05602650e-04,  -6.61935859e-04,\n",
       "         -6.61935859e-04,   2.16857380e-03]),\n",
       " array([  9.82411645e-01,  -5.24522754e-04,  -6.86602755e-04,\n",
       "         -6.86602756e-04,   2.24877798e-03]),\n",
       " array([  9.81772841e-01,  -5.43404466e-04,  -7.11216202e-04,\n",
       "         -7.11216202e-04,   2.32875586e-03]),\n",
       " array([  9.81134884e-01,  -5.62247862e-04,  -7.35776338e-04,\n",
       "         -7.35776338e-04,   2.40850815e-03]),\n",
       " array([  9.80497771e-01,  -5.81053021e-04,  -7.60283300e-04,\n",
       "         -7.60283301e-04,   2.48803557e-03]),\n",
       " array([  9.79861503e-01,  -5.99820020e-04,  -7.84737228e-04,\n",
       "         -7.84737228e-04,   2.56733884e-03]),\n",
       " array([  9.79226076e-01,  -6.18548937e-04,  -8.09138258e-04,\n",
       "         -8.09138258e-04,   2.64641865e-03]),\n",
       " array([  9.78591490e-01,  -6.37239850e-04,  -8.33486527e-04,\n",
       "         -8.33486527e-04,   2.72527572e-03]),\n",
       " array([  9.77957742e-01,  -6.55892836e-04,  -8.57782171e-04,\n",
       "         -8.57782171e-04,   2.80391075e-03]),\n",
       " array([  9.77324831e-01,  -6.74507972e-04,  -8.82025327e-04,\n",
       "         -8.82025327e-04,   2.88232445e-03]),\n",
       " array([  9.76692755e-01,  -6.93085336e-04,  -9.06216130e-04,\n",
       "         -9.06216131e-04,   2.96051751e-03]),\n",
       " array([  9.76061512e-01,  -7.11625004e-04,  -9.30354716e-04,\n",
       "         -9.30354716e-04,   3.03849064e-03]),\n",
       " array([  9.75431101e-01,  -7.30127053e-04,  -9.54441218e-04,\n",
       "         -9.54441218e-04,   3.11624451e-03]),\n",
       " array([  9.74801520e-01,  -7.48591559e-04,  -9.78475771e-04,\n",
       "         -9.78475772e-04,   3.19377984e-03]),\n",
       " array([  9.74172767e-01,  -7.67018600e-04,  -1.00245851e-03,\n",
       "         -1.00245851e-03,   3.27109730e-03]),\n",
       " array([  9.73544842e-01,  -7.85408252e-04,  -1.02638957e-03,\n",
       "         -1.02638957e-03,   3.34819758e-03]),\n",
       " array([  9.72917741e-01,  -8.03760591e-04,  -1.05026907e-03,\n",
       "         -1.05026908e-03,   3.42508136e-03]),\n",
       " array([  9.72291463e-01,  -8.22075693e-04,  -1.07409717e-03,\n",
       "         -1.07409717e-03,   3.50174933e-03]),\n",
       " array([  9.71666008e-01,  -8.40353634e-04,  -1.09787397e-03,\n",
       "         -1.09787397e-03,   3.57820217e-03]),\n",
       " array([  9.71041372e-01,  -8.58594490e-04,  -1.12159963e-03,\n",
       "         -1.12159963e-03,   3.65444054e-03]),\n",
       " array([  9.70417555e-01,  -8.76798337e-04,  -1.14527426e-03,\n",
       "         -1.14527426e-03,   3.73046513e-03]),\n",
       " array([  9.69794555e-01,  -8.94965250e-04,  -1.16889801e-03,\n",
       "         -1.16889801e-03,   3.80627661e-03]),\n",
       " array([  9.69172369e-01,  -9.13095306e-04,  -1.19247099e-03,\n",
       "         -1.19247099e-03,   3.88187564e-03]),\n",
       " array([  9.68550998e-01,  -9.31188578e-04,  -1.21599334e-03,\n",
       "         -1.21599335e-03,   3.95726289e-03]),\n",
       " array([  9.67930438e-01,  -9.49245143e-04,  -1.23946520e-03,\n",
       "         -1.23946520e-03,   4.03243902e-03]),\n",
       " array([  9.67310689e-01,  -9.67265075e-04,  -1.26288668e-03,\n",
       "         -1.26288668e-03,   4.10740469e-03]),\n",
       " array([ 0.96669175, -0.00098525, -0.00128626, -0.00128626,  0.00418216]),\n",
       " array([ 0.96607361, -0.0010032 , -0.00130958, -0.00130958,  0.00425671]),\n",
       " array([ 0.96545629, -0.00102111, -0.00133285, -0.00133285,  0.00433105]),\n",
       " array([ 0.96483976, -0.00103898, -0.00135607, -0.00135607,  0.00440518]),\n",
       " array([ 0.96422404, -0.00105682, -0.00137924, -0.00137924,  0.0044791 ]),\n",
       " array([ 0.96360912, -0.00107462, -0.00140236, -0.00140236,  0.00455282]),\n",
       " array([ 0.962995  , -0.00109239, -0.00142544, -0.00142544,  0.00462633]),\n",
       " array([ 0.96238167, -0.00111011, -0.00144846, -0.00144846,  0.00469963]),\n",
       " array([ 0.96176914, -0.00112781, -0.00147143, -0.00147143,  0.00477273]),\n",
       " array([ 0.96115741, -0.00114547, -0.00149436, -0.00149436,  0.00484563]),\n",
       " array([ 0.96054647, -0.00116309, -0.00151723, -0.00151723,  0.00491832]),\n",
       " array([ 0.95993632, -0.00118067, -0.00154006, -0.00154006,  0.00499081]),\n",
       " array([ 0.95932695, -0.00119822, -0.00156284, -0.00156284,  0.0050631 ]),\n",
       " array([ 0.95871838, -0.00121574, -0.00158557, -0.00158557,  0.00513519]),\n",
       " array([ 0.95811059, -0.00123322, -0.00160825, -0.00160825,  0.00520708]),\n",
       " array([ 0.95750359, -0.00125066, -0.00163088, -0.00163088,  0.00527876]),\n",
       " array([ 0.95689737, -0.00126807, -0.00165347, -0.00165347,  0.00535025]),\n",
       " array([ 0.95629194, -0.00128544, -0.001676  , -0.001676  ,  0.00542154]),\n",
       " array([ 0.95568728, -0.00130278, -0.00169849, -0.00169849,  0.00549263]),\n",
       " array([ 0.95508341, -0.00132009, -0.00172093, -0.00172093,  0.00556352]),\n",
       " array([ 0.95448031, -0.00133735, -0.00174333, -0.00174333,  0.00563421]),\n",
       " array([ 0.95387798, -0.00135459, -0.00176567, -0.00176567,  0.00570471]),\n",
       " array([ 0.95327643, -0.00137178, -0.00178797, -0.00178797,  0.00577501]),\n",
       " array([ 0.95267565, -0.00138895, -0.00181022, -0.00181022,  0.00584512]),\n",
       " array([ 0.95207565, -0.00140607, -0.00183242, -0.00183242,  0.00591503]),\n",
       " array([ 0.95147641, -0.00142317, -0.00185458, -0.00185458,  0.00598475]),\n",
       " array([ 0.95087794, -0.00144023, -0.00187669, -0.00187669,  0.00605427]),\n",
       " array([ 0.95028024, -0.00145725, -0.00189875, -0.00189875,  0.00612361]),\n",
       " array([ 0.9496833 , -0.00147424, -0.00192076, -0.00192076,  0.00619275]),\n",
       " array([ 0.94908713, -0.0014912 , -0.00194273, -0.00194273,  0.00626169]),\n",
       " array([ 0.94849172, -0.00150812, -0.00196465, -0.00196465,  0.00633045]),\n",
       " array([ 0.94789707, -0.001525  , -0.00198653, -0.00198653,  0.00639902]),\n",
       " array([ 0.94730318, -0.00154186, -0.00200836, -0.00200836,  0.00646739]),\n",
       " array([ 0.94671005, -0.00155867, -0.00203014, -0.00203014,  0.00653558]),\n",
       " array([ 0.94611767, -0.00157546, -0.00205188, -0.00205188,  0.00660358]),\n",
       " array([ 0.94552605, -0.00159221, -0.00207357, -0.00207357,  0.00667139]),\n",
       " array([ 0.94493518, -0.00160892, -0.00209521, -0.00209521,  0.00673901]),\n",
       " array([ 0.94434506, -0.00162561, -0.00211681, -0.00211681,  0.00680644]),\n",
       " array([ 0.94375569, -0.00164225, -0.00213837, -0.00213837,  0.00687369]),\n",
       " array([ 0.94316707, -0.00165887, -0.00215987, -0.00215987,  0.00694075]),\n",
       " array([ 0.9425792 , -0.00167545, -0.00218134, -0.00218134,  0.00700763]),\n",
       " array([ 0.94199208, -0.001692  , -0.00220275, -0.00220275,  0.00707432]),\n",
       " array([ 0.9414057 , -0.00170851, -0.00222413, -0.00222413,  0.00714083]),\n",
       " array([ 0.94082006, -0.00172499, -0.00224545, -0.00224545,  0.00720715]),\n",
       " array([ 0.94023517, -0.00174144, -0.00226673, -0.00226673,  0.0072733 ]),\n",
       " array([ 0.93965101, -0.00175785, -0.00228797, -0.00228797,  0.00733925]),\n",
       " array([ 0.9390676 , -0.00177423, -0.00230916, -0.00230916,  0.00740503]),\n",
       " array([ 0.93848492, -0.00179058, -0.00233031, -0.00233031,  0.00747063]),\n",
       " array([ 0.93790297, -0.00180689, -0.00235141, -0.00235141,  0.00753604]),\n",
       " array([ 0.93732177, -0.00182317, -0.00237247, -0.00237247,  0.00760127])]"
      ]
     },
     "execution_count": 31,
     "metadata": {},
     "output_type": "execute_result"
    }
   ],
   "source": [
    "alphas_ridge = np.linspace(0.1,5,100)\n",
    "fdf=pd.DataFrame()\n",
    "model = linear_model.Ridge()\n",
    "coeff = []\n",
    "for a in alphas_ridge:\n",
    "    model.set_params(alpha=a)\n",
    "    model.fit(x_train, y_train)\n",
    "    coeff.append(model.coef_)\n",
    "cdf = pd.DataFrame(coeff, columns=x_train.columns)\n",
    "adf = pd.DataFrame(alphas_ridge, columns=['alphas'])\n",
    "fdf = cdf.join(adf)\n",
    "fdf.head()"
   ]
  },
  {
   "cell_type": "code",
   "execution_count": 32,
   "metadata": {
    "collapsed": false
   },
   "outputs": [
    {
     "data": {
      "text/plain": [
       "'file:///home/user/ml_regression/SonarDataset/RidgeRegression.html'"
      ]
     },
     "execution_count": 32,
     "metadata": {},
     "output_type": "execute_result"
    }
   ],
   "source": [
    "trace0 = Scatter(\n",
    "    x = alphas_ridge,\n",
    "    y = fdf['EchoTime'],\n",
    "    name = 'EchoTime',\n",
    "    line = dict(\n",
    "        color = ('rgb(205, 12, 24)'),\n",
    "        width = 4)\n",
    ")\n",
    "trace1 = Scatter(\n",
    "    x = alphas_ridge,\n",
    "    y = fdf['WaterTemp'],\n",
    "    name = 'WaterTemp',\n",
    "    line = dict(\n",
    "        color = ('rgb(22, 96, 167)'),\n",
    "        width = 4,)\n",
    ")\n",
    "trace2 = Scatter(\n",
    "    x = alphas_ridge,\n",
    "    y = fdf['Clconcentration'],\n",
    "    name = 'Clconcentration',\n",
    "    line = dict(\n",
    "        color = ('rgb(205, 12, 24)'),\n",
    "        width = 4,\n",
    "        dash = 'dash') # dash options include 'dash', 'dot', and 'dashdot'\n",
    ")\n",
    "trace3 = Scatter(\n",
    "    x = alphas_ridge,\n",
    "    y = fdf['Salinity'],\n",
    "    name = 'Salinity',\n",
    "    line = dict(\n",
    "        color = ('rgb(212, 196, 107)'),\n",
    "        width = 4,\n",
    "        dash = 'dash')\n",
    ")\n",
    "\n",
    "data = [trace0, trace1, trace2, trace3]\n",
    "\n",
    "# Edit the layout\n",
    "layout = dict(xaxis = dict(title = 'alpha'),\n",
    "              yaxis = dict(title = 'Weights'),\n",
    "              )\n",
    "\n",
    "fig = dict(data=data, layout=layout)\n",
    "plotly.offline.plot(fig, filename='RidgeRegression.html')"
   ]
  },
  {
   "cell_type": "markdown",
   "metadata": {},
   "source": [
    "## RidgeCV"
   ]
  },
  {
   "cell_type": "code",
   "execution_count": 33,
   "metadata": {
    "collapsed": true
   },
   "outputs": [],
   "source": [
    "ridgecv = linear_model.RidgeCV(alphas=alphas_ridge, scoring='neg_mean_squared_error')"
   ]
  },
  {
   "cell_type": "code",
   "execution_count": 34,
   "metadata": {
    "collapsed": false
   },
   "outputs": [
    {
     "data": {
      "text/plain": [
       "(0.10000000000000001,\n",
       " array([  9.98662153e-01,  -3.97968521e-05,  -5.35266071e-05,\n",
       "         -5.35266074e-05,   1.73866231e-04]))"
      ]
     },
     "execution_count": 34,
     "metadata": {},
     "output_type": "execute_result"
    }
   ],
   "source": [
    "ridgecv.fit(x_train, y_train)\n",
    "ridgecv.alpha_, ridgecv.coef_"
   ]
  },
  {
   "cell_type": "code",
   "execution_count": 35,
   "metadata": {
    "collapsed": false
   },
   "outputs": [
    {
     "name": "stdout",
     "output_type": "stream",
     "text": [
      "EchoTime 0.998662152729\n",
      "WaterTemp -3.97968521027e-05\n",
      "Clconcentration -5.35266071044e-05\n",
      "Salinity -5.35266073788e-05\n",
      "pH 0.000173866230811\n"
     ]
    }
   ],
   "source": [
    "for i, j in zip(x_train.columns, ridgecv.coef_):\n",
    "    print (i, j)"
   ]
  },
  {
   "cell_type": "code",
   "execution_count": 37,
   "metadata": {
    "collapsed": false
   },
   "outputs": [
    {
     "data": {
      "image/png": "[encoded data removed]",
      "text/plain": [
       "<matplotlib.figure.Figure at 0x7fee5de6d780>"
      ]
     },
     "metadata": {},
     "output_type": "display_data"
    }
   ],
   "source": [
    "predictions = ridgecv.predict(x_test)\n",
    "residuals = predictions - y_test\n",
    "residuals.plot(kind='box')\n",
    "plt.show()"
   ]
  },
  {
   "cell_type": "code",
   "execution_count": 38,
   "metadata": {
    "collapsed": false
   },
   "outputs": [
    {
     "data": {
      "image/png": "[encoded data removed]",
      "text/plain": [
       "<matplotlib.figure.Figure at 0x7fee5dc8ccf8>"
      ]
     },
     "metadata": {},
     "output_type": "display_data"
    }
   ],
   "source": [
    "plt.scatter(y_test, abs(residuals))\n",
    "plt.show()"
   ]
  },
  {
   "cell_type": "code",
   "execution_count": 39,
   "metadata": {
    "collapsed": false
   },
   "outputs": [
    {
     "data": {
      "image/png": "[encoded data removed]",
      "text/plain": [
       "<matplotlib.figure.Figure at 0x7fee5dc08550>"
      ]
     },
     "metadata": {},
     "output_type": "display_data"
    }
   ],
   "source": [
    "plt.scatter(y_test, predictions)\n",
    "plt.plot(y_test, predictions)\n",
    "plt.show()"
   ]
  },
  {
   "cell_type": "markdown",
   "metadata": {},
   "source": [
    "## Lasso"
   ]
  },
  {
   "cell_type": "code",
   "execution_count": 54,
   "metadata": {
    "collapsed": false
   },
   "outputs": [
    {
     "data": {
      "text/html": [
       "<div>\n",
       "<table border=\"1\" class=\"dataframe\">\n",
       "  <thead>\n",
       "    <tr style=\"text-align: right;\">\n",
       "      <th></th>\n",
       "      <th>EchoTime</th>\n",
       "      <th>WaterTemp</th>\n",
       "      <th>Clconcentration</th>\n",
       "      <th>Salinity</th>\n",
       "      <th>pH</th>\n",
       "      <th>alphas</th>\n",
       "    </tr>\n",
       "  </thead>\n",
       "  <tbody>\n",
       "    <tr>\n",
       "      <th>0</th>\n",
       "      <td>0.988808</td>\n",
       "      <td>-0.0</td>\n",
       "      <td>-0.0</td>\n",
       "      <td>-0.0</td>\n",
       "      <td>0.0</td>\n",
       "      <td>0.010000</td>\n",
       "    </tr>\n",
       "    <tr>\n",
       "      <th>1</th>\n",
       "      <td>0.987791</td>\n",
       "      <td>-0.0</td>\n",
       "      <td>-0.0</td>\n",
       "      <td>-0.0</td>\n",
       "      <td>0.0</td>\n",
       "      <td>0.010909</td>\n",
       "    </tr>\n",
       "    <tr>\n",
       "      <th>2</th>\n",
       "      <td>0.986773</td>\n",
       "      <td>-0.0</td>\n",
       "      <td>-0.0</td>\n",
       "      <td>-0.0</td>\n",
       "      <td>0.0</td>\n",
       "      <td>0.011818</td>\n",
       "    </tr>\n",
       "    <tr>\n",
       "      <th>3</th>\n",
       "      <td>0.985756</td>\n",
       "      <td>-0.0</td>\n",
       "      <td>-0.0</td>\n",
       "      <td>-0.0</td>\n",
       "      <td>0.0</td>\n",
       "      <td>0.012727</td>\n",
       "    </tr>\n",
       "    <tr>\n",
       "      <th>4</th>\n",
       "      <td>0.984738</td>\n",
       "      <td>-0.0</td>\n",
       "      <td>-0.0</td>\n",
       "      <td>-0.0</td>\n",
       "      <td>0.0</td>\n",
       "      <td>0.013636</td>\n",
       "    </tr>\n",
       "  </tbody>\n",
       "</table>\n",
       "</div>"
      ],
      "text/plain": [
       "   EchoTime  WaterTemp  Clconcentration  Salinity   pH    alphas\n",
       "0  0.988808       -0.0             -0.0      -0.0  0.0  0.010000\n",
       "1  0.987791       -0.0             -0.0      -0.0  0.0  0.010909\n",
       "2  0.986773       -0.0             -0.0      -0.0  0.0  0.011818\n",
       "3  0.985756       -0.0             -0.0      -0.0  0.0  0.012727\n",
       "4  0.984738       -0.0             -0.0      -0.0  0.0  0.013636"
      ]
     },
     "execution_count": 54,
     "metadata": {},
     "output_type": "execute_result"
    }
   ],
   "source": [
    "alphas_lasso = np.linspace(0.01,0.1,100)\n",
    "fdf=pd.DataFrame()\n",
    "model = linear_model.Lasso()\n",
    "coeff = []\n",
    "for a in alphas_lasso:\n",
    "    model.set_params(alpha=a)\n",
    "    model.fit(x_train, y_train)\n",
    "    coeff.append(model.coef_)\n",
    "cdf = pd.DataFrame(coeff, columns=x_train.columns)\n",
    "adf = pd.DataFrame(alphas_lasso, columns=['alphas'])\n",
    "fdf = cdf.join(adf)\n",
    "fdf.head()"
   ]
  },
  {
   "cell_type": "code",
   "execution_count": 55,
   "metadata": {
    "collapsed": false
   },
   "outputs": [
    {
     "data": {
      "text/plain": [
       "'file:///home/user/ml_regression/SonarDataset/RidgeRegression.html'"
      ]
     },
     "execution_count": 55,
     "metadata": {},
     "output_type": "execute_result"
    }
   ],
   "source": [
    "trace0 = Scatter(\n",
    "    x = alphas_lasso,\n",
    "    y = fdf['EchoTime'],\n",
    "    name = 'EchoTime',\n",
    "    line = dict(\n",
    "        color = ('rgb(205, 12, 24)'),\n",
    "        width = 4)\n",
    ")\n",
    "trace1 = Scatter(\n",
    "    x = alphas_lasso,\n",
    "    y = fdf['WaterTemp'],\n",
    "    name = 'WaterTemp',\n",
    "    line = dict(\n",
    "        color = ('rgb(22, 96, 167)'),\n",
    "        width = 4,)\n",
    ")\n",
    "trace2 = Scatter(\n",
    "    x = alphas_lasso,\n",
    "    y = fdf['Clconcentration'],\n",
    "    name = 'Clconcentration',\n",
    "    line = dict(\n",
    "        color = ('rgb(205, 12, 24)'),\n",
    "        width = 4,\n",
    "        dash = 'dash') # dash options include 'dash', 'dot', and 'dashdot'\n",
    ")\n",
    "trace3 = Scatter(\n",
    "    x = alphas_lasso,\n",
    "    y = fdf['Salinity'],\n",
    "    name = 'Salinity',\n",
    "    line = dict(\n",
    "        color = ('rgb(212, 196, 107)'),\n",
    "        width = 4,\n",
    "        dash = 'dash')\n",
    ")\n",
    "\n",
    "data = [trace0, trace1, trace2, trace3]\n",
    "\n",
    "# Edit the layout\n",
    "layout = dict(xaxis = dict(title = 'alpha'),\n",
    "              yaxis = dict(title = 'Weights'),\n",
    "              )\n",
    "\n",
    "fig = dict(data=data, layout=layout)\n",
    "plotly.offline.plot(fig, filename='RidgeRegression.html')"
   ]
  },
  {
   "cell_type": "markdown",
   "metadata": {},
   "source": [
    "## LassoCV"
   ]
  },
  {
   "cell_type": "code",
   "execution_count": 56,
   "metadata": {
    "collapsed": true
   },
   "outputs": [],
   "source": [
    "lassocv = linear_model.LassoCV(alphas=alphas_lasso, cv=10, max_iter=100000)"
   ]
  },
  {
   "cell_type": "code",
   "execution_count": 57,
   "metadata": {
    "collapsed": false
   },
   "outputs": [
    {
     "name": "stdout",
     "output_type": "stream",
     "text": [
      "EchoTime 0.988808186563\n",
      "WaterTemp -0.0\n",
      "Clconcentration -0.0\n",
      "Salinity -0.0\n",
      "pH 0.0\n"
     ]
    }
   ],
   "source": [
    "lassocv.fit(x_train, y_train)\n",
    "predictions = lassocv.predict(x_test)\n",
    "for i, j in zip(x_train.columns, lassocv.coef_):\n",
    "    print (i, j)"
   ]
  },
  {
   "cell_type": "code",
   "execution_count": 58,
   "metadata": {
    "collapsed": false
   },
   "outputs": [
    {
     "data": {
      "text/plain": [
       "0.01"
      ]
     },
     "execution_count": 58,
     "metadata": {},
     "output_type": "execute_result"
    }
   ],
   "source": [
    "lassocv.alpha_"
   ]
  },
  {
   "cell_type": "code",
   "execution_count": 59,
   "metadata": {
    "collapsed": false
   },
   "outputs": [
    {
     "data": {
      "text/plain": [
       "0.013227687811366592"
      ]
     },
     "execution_count": 59,
     "metadata": {},
     "output_type": "execute_result"
    }
   ],
   "source": [
    "np.mean((y_test - predictions)**2)**0.5"
   ]
  },
  {
   "cell_type": "code",
   "execution_count": 60,
   "metadata": {
    "collapsed": false
   },
   "outputs": [
    {
     "data": {
      "image/png": "[encoded data removed]",
      "text/plain": [
       "<matplotlib.figure.Figure at 0x7fee5f752550>"
      ]
     },
     "metadata": {},
     "output_type": "display_data"
    }
   ],
   "source": [
    "residuals = predictions - y_test\n",
    "residuals.plot(kind='box')\n",
    "plt.show()"
   ]
  },
  {
   "cell_type": "code",
   "execution_count": 61,
   "metadata": {
    "collapsed": false
   },
   "outputs": [
    {
     "data": {
      "image/png": "[encoded data removed]",
      "text/plain": [
       "<matplotlib.figure.Figure at 0x7fee5f82de48>"
      ]
     },
     "metadata": {},
     "output_type": "display_data"
    }
   ],
   "source": [
    "plt.scatter(y_test, abs(residuals))\n",
    "plt.show()"
   ]
  },
  {
   "cell_type": "code",
   "execution_count": 62,
   "metadata": {
    "collapsed": false
   },
   "outputs": [
    {
     "data": {
      "image/png": "[encoded data removed]",
      "text/plain": [
       "<matplotlib.figure.Figure at 0x7fee5fd66b00>"
      ]
     },
     "metadata": {},
     "output_type": "display_data"
    }
   ],
   "source": [
    "plt.scatter(y_test, predictions)\n",
    "plt.plot(y_test, predictions)\n",
    "plt.show()"
   ]
  },
  {
   "cell_type": "code",
   "execution_count": null,
   "metadata": {
    "collapsed": true
   },
   "outputs": [],
   "source": []
  }
 ],
 "metadata": {
  "kernelspec": {
   "display_name": "Python 3",
   "language": "python",
   "name": "python3"
  },
  "language_info": {
   "codemirror_mode": {
    "name": "ipython",
    "version": 3
   },
   "file_extension": ".py",
   "mimetype": "text/x-python",
   "name": "python",
   "nbconvert_exporter": "python",
   "pygments_lexer": "ipython3",
   "version": "3.5.2"
  }
 },
 "nbformat": 4,
 "nbformat_minor": 2
}
