{
 "cells": [
  {
   "cell_type": "code",
   "execution_count": 1,
   "metadata": {
    "collapsed": true,
    "deletable": true,
    "editable": true
   },
   "outputs": [],
   "source": [
    "import pandas as pd\n",
    "import numpy as np\n",
    "import matplotlib\n",
    "import matplotlib.pyplot as plt\n",
    "from sklearn import preprocessing\n",
    "from pandas.tools.plotting import scatter_matrix\n",
    "from pandas.stats.api import ols\n",
    "matplotlib.style.use('ggplot')\n",
    "import statsmodels.formula.api as sm\n",
    "import statsmodels.stats.api as sms\n",
    "from sklearn import linear_model\n",
    "import plotly\n",
    "from plotly.graph_objs import *"
   ]
  },
  {
   "cell_type": "code",
   "execution_count": 2,
   "metadata": {
    "collapsed": true,
    "deletable": true,
    "editable": true
   },
   "outputs": [],
   "source": [
    "pizza_data_original = pd.read_csv('Ex06_Pizzademand_Regreesion.csv')"
   ]
  },
  {
   "cell_type": "code",
   "execution_count": 3,
   "metadata": {
    "collapsed": true,
    "deletable": true,
    "editable": true
   },
   "outputs": [],
   "source": [
    "pizza_data = pizza_data_original[[np.all(values) for values in pizza_data_original.values > 0]]"
   ]
  },
  {
   "cell_type": "code",
   "execution_count": 4,
   "metadata": {
    "collapsed": false,
    "deletable": true,
    "editable": true
   },
   "outputs": [
    {
     "name": "stderr",
     "output_type": "stream",
     "text": [
      "/home/user/ml_regression/lib/python3.5/site-packages/ipykernel/__main__.py:3: SettingWithCopyWarning:\n",
      "\n",
      "\n",
      "A value is trying to be set on a copy of a slice from a DataFrame.\n",
      "Try using .loc[row_indexer,col_indexer] = value instead\n",
      "\n",
      "See the caveats in the documentation: http://pandas.pydata.org/pandas-docs/stable/indexing.html#indexing-view-versus-copy\n",
      "\n"
     ]
    }
   ],
   "source": [
    "columns = pizza_data.describe(include=['float64']).columns\n",
    "for col in columns:\n",
    "    pizza_data[col] = pizza_data[col].apply(lambda x :(x-pizza_data[col].mean())/pizza_data[col].std())\n",
    "#     kepler_data[col] = kepler_data[col].apply(lambda x :print(x))"
   ]
  },
  {
   "cell_type": "code",
   "execution_count": 5,
   "metadata": {
    "collapsed": true,
    "deletable": true,
    "editable": true
   },
   "outputs": [],
   "source": [
    "train = pizza_data.ix[1:82, :]"
   ]
  },
  {
   "cell_type": "code",
   "execution_count": 6,
   "metadata": {
    "collapsed": true,
    "deletable": true,
    "editable": true
   },
   "outputs": [],
   "source": [
    "test = pizza_data.ix[82:, :]"
   ]
  },
  {
   "cell_type": "code",
   "execution_count": 7,
   "metadata": {
    "collapsed": false,
    "deletable": true,
    "editable": true
   },
   "outputs": [
    {
     "data": {
      "text/plain": [
       "Index(['PizzaPrice', 'BurgerPrice', 'RoomTemperature', 'DeliveryMode',\n",
       "       'Income', 'softdrinkPrice', 'Location'],\n",
       "      dtype='object')"
      ]
     },
     "execution_count": 7,
     "metadata": {},
     "output_type": "execute_result"
    }
   ],
   "source": [
    "x_train = pizza_data.ix[1:82, :-1]\n",
    "x_train.columns"
   ]
  },
  {
   "cell_type": "code",
   "execution_count": 8,
   "metadata": {
    "collapsed": true,
    "deletable": true,
    "editable": true
   },
   "outputs": [],
   "source": [
    "y_train = pizza_data.ix[1:82, -1]"
   ]
  },
  {
   "cell_type": "code",
   "execution_count": 9,
   "metadata": {
    "collapsed": true,
    "deletable": true,
    "editable": true
   },
   "outputs": [],
   "source": [
    "x_test = pizza_data.ix[82:, :-1]"
   ]
  },
  {
   "cell_type": "code",
   "execution_count": 10,
   "metadata": {
    "collapsed": true,
    "deletable": true,
    "editable": true
   },
   "outputs": [],
   "source": [
    "y_test = pizza_data.ix[82:, -1]"
   ]
  },
  {
   "cell_type": "code",
   "execution_count": 11,
   "metadata": {
    "collapsed": false,
    "deletable": true,
    "editable": true
   },
   "outputs": [
    {
     "data": {
      "image/png": "[encoded data removed]",
      "text/plain": [
       "<matplotlib.figure.Figure at 0x7fec5fe73358>"
      ]
     },
     "metadata": {},
     "output_type": "display_data"
    },
    {
     "data": {
      "text/html": [
       "<div>\n",
       "<table border=\"1\" class=\"dataframe\">\n",
       "  <thead>\n",
       "    <tr style=\"text-align: right;\">\n",
       "      <th></th>\n",
       "      <th>PizzaPrice</th>\n",
       "      <th>BurgerPrice</th>\n",
       "      <th>RoomTemperature</th>\n",
       "      <th>DeliveryMode</th>\n",
       "      <th>Income</th>\n",
       "      <th>softdrinkPrice</th>\n",
       "      <th>Location</th>\n",
       "      <th>PizzaDemand</th>\n",
       "    </tr>\n",
       "  </thead>\n",
       "  <tbody>\n",
       "    <tr>\n",
       "      <th>PizzaPrice</th>\n",
       "      <td>1.000000</td>\n",
       "      <td>1.000000</td>\n",
       "      <td>-0.086811</td>\n",
       "      <td>-0.012426</td>\n",
       "      <td>0.172350</td>\n",
       "      <td>-0.076276</td>\n",
       "      <td>-0.130941</td>\n",
       "      <td>0.215934</td>\n",
       "    </tr>\n",
       "    <tr>\n",
       "      <th>BurgerPrice</th>\n",
       "      <td>1.000000</td>\n",
       "      <td>1.000000</td>\n",
       "      <td>-0.086811</td>\n",
       "      <td>-0.012426</td>\n",
       "      <td>0.172350</td>\n",
       "      <td>-0.076276</td>\n",
       "      <td>-0.130941</td>\n",
       "      <td>0.215934</td>\n",
       "    </tr>\n",
       "    <tr>\n",
       "      <th>RoomTemperature</th>\n",
       "      <td>-0.086811</td>\n",
       "      <td>-0.086811</td>\n",
       "      <td>1.000000</td>\n",
       "      <td>-0.009645</td>\n",
       "      <td>-0.093795</td>\n",
       "      <td>-0.094953</td>\n",
       "      <td>-0.180548</td>\n",
       "      <td>-0.074532</td>\n",
       "    </tr>\n",
       "    <tr>\n",
       "      <th>DeliveryMode</th>\n",
       "      <td>-0.012426</td>\n",
       "      <td>-0.012426</td>\n",
       "      <td>-0.009645</td>\n",
       "      <td>1.000000</td>\n",
       "      <td>-0.144295</td>\n",
       "      <td>0.031975</td>\n",
       "      <td>0.193936</td>\n",
       "      <td>-0.145687</td>\n",
       "    </tr>\n",
       "    <tr>\n",
       "      <th>Income</th>\n",
       "      <td>0.172350</td>\n",
       "      <td>0.172350</td>\n",
       "      <td>-0.093795</td>\n",
       "      <td>-0.144295</td>\n",
       "      <td>1.000000</td>\n",
       "      <td>-0.051557</td>\n",
       "      <td>-0.198284</td>\n",
       "      <td>0.979153</td>\n",
       "    </tr>\n",
       "    <tr>\n",
       "      <th>softdrinkPrice</th>\n",
       "      <td>-0.076276</td>\n",
       "      <td>-0.076276</td>\n",
       "      <td>-0.094953</td>\n",
       "      <td>0.031975</td>\n",
       "      <td>-0.051557</td>\n",
       "      <td>1.000000</td>\n",
       "      <td>0.154527</td>\n",
       "      <td>-0.250431</td>\n",
       "    </tr>\n",
       "    <tr>\n",
       "      <th>Location</th>\n",
       "      <td>-0.130941</td>\n",
       "      <td>-0.130941</td>\n",
       "      <td>-0.180548</td>\n",
       "      <td>0.193936</td>\n",
       "      <td>-0.198284</td>\n",
       "      <td>0.154527</td>\n",
       "      <td>1.000000</td>\n",
       "      <td>-0.226107</td>\n",
       "    </tr>\n",
       "    <tr>\n",
       "      <th>PizzaDemand</th>\n",
       "      <td>0.215934</td>\n",
       "      <td>0.215934</td>\n",
       "      <td>-0.074532</td>\n",
       "      <td>-0.145687</td>\n",
       "      <td>0.979153</td>\n",
       "      <td>-0.250431</td>\n",
       "      <td>-0.226107</td>\n",
       "      <td>1.000000</td>\n",
       "    </tr>\n",
       "  </tbody>\n",
       "</table>\n",
       "</div>"
      ],
      "text/plain": [
       "                 PizzaPrice  BurgerPrice  RoomTemperature  DeliveryMode  \\\n",
       "PizzaPrice         1.000000     1.000000        -0.086811     -0.012426   \n",
       "BurgerPrice        1.000000     1.000000        -0.086811     -0.012426   \n",
       "RoomTemperature   -0.086811    -0.086811         1.000000     -0.009645   \n",
       "DeliveryMode      -0.012426    -0.012426        -0.009645      1.000000   \n",
       "Income             0.172350     0.172350        -0.093795     -0.144295   \n",
       "softdrinkPrice    -0.076276    -0.076276        -0.094953      0.031975   \n",
       "Location          -0.130941    -0.130941        -0.180548      0.193936   \n",
       "PizzaDemand        0.215934     0.215934        -0.074532     -0.145687   \n",
       "\n",
       "                   Income  softdrinkPrice  Location  PizzaDemand  \n",
       "PizzaPrice       0.172350       -0.076276 -0.130941     0.215934  \n",
       "BurgerPrice      0.172350       -0.076276 -0.130941     0.215934  \n",
       "RoomTemperature -0.093795       -0.094953 -0.180548    -0.074532  \n",
       "DeliveryMode    -0.144295        0.031975  0.193936    -0.145687  \n",
       "Income           1.000000       -0.051557 -0.198284     0.979153  \n",
       "softdrinkPrice  -0.051557        1.000000  0.154527    -0.250431  \n",
       "Location        -0.198284        0.154527  1.000000    -0.226107  \n",
       "PizzaDemand      0.979153       -0.250431 -0.226107     1.000000  "
      ]
     },
     "execution_count": 11,
     "metadata": {},
     "output_type": "execute_result"
    }
   ],
   "source": [
    "correlations = pizza_data.corr()\n",
    "fig = plt.figure()\n",
    "names = pizza_data.columns\n",
    "ax = fig.add_subplot(1,1,1)\n",
    "cax = ax.matshow(correlations, vmin=-1, vmax=1)\n",
    "fig.colorbar(cax)\n",
    "ticks = np.arange(0,len(names),1)\n",
    "ax.set_xticks(ticks)\n",
    "ax.set_yticks(ticks)\n",
    "ax.set_xticklabels(names)\n",
    "ax.set_yticklabels(names)\n",
    "plt.show()\n",
    "correlations"
   ]
  },
  {
   "cell_type": "code",
   "execution_count": 12,
   "metadata": {
    "collapsed": false,
    "deletable": true,
    "editable": true
   },
   "outputs": [
    {
     "data": {
      "text/plain": [
       "array([[<matplotlib.axes._subplots.AxesSubplot object at 0x7fec5feb7da0>,\n",
       "        <matplotlib.axes._subplots.AxesSubplot object at 0x7fec5dd09470>,\n",
       "        <matplotlib.axes._subplots.AxesSubplot object at 0x7fec5dd24be0>,\n",
       "        <matplotlib.axes._subplots.AxesSubplot object at 0x7fec5dc92dd8>,\n",
       "        <matplotlib.axes._subplots.AxesSubplot object at 0x7fec5dc63400>,\n",
       "        <matplotlib.axes._subplots.AxesSubplot object at 0x7fec5dc21be0>,\n",
       "        <matplotlib.axes._subplots.AxesSubplot object at 0x7fec5db73128>,\n",
       "        <matplotlib.axes._subplots.AxesSubplot object at 0x7fec5db32908>],\n",
       "       [<matplotlib.axes._subplots.AxesSubplot object at 0x7fec5dafea20>,\n",
       "        <matplotlib.axes._subplots.AxesSubplot object at 0x7fec5dac74a8>,\n",
       "        <matplotlib.axes._subplots.AxesSubplot object at 0x7fec5da959b0>,\n",
       "        <matplotlib.axes._subplots.AxesSubplot object at 0x7fec5da58d30>,\n",
       "        <matplotlib.axes._subplots.AxesSubplot object at 0x7fec5da28358>,\n",
       "        <matplotlib.axes._subplots.AxesSubplot object at 0x7fec5d9e7d30>,\n",
       "        <matplotlib.axes._subplots.AxesSubplot object at 0x7fec5d938240>,\n",
       "        <matplotlib.axes._subplots.AxesSubplot object at 0x7fec5d8f1d30>],\n",
       "       [<matplotlib.axes._subplots.AxesSubplot object at 0x7fec5d8c9240>,\n",
       "        <matplotlib.axes._subplots.AxesSubplot object at 0x7fec5d8def60>,\n",
       "        <matplotlib.axes._subplots.AxesSubplot object at 0x7fec5d858358>,\n",
       "        <matplotlib.axes._subplots.AxesSubplot object at 0x7fec5d828748>,\n",
       "        <matplotlib.axes._subplots.AxesSubplot object at 0x7fec5d7d4f28>,\n",
       "        <matplotlib.axes._subplots.AxesSubplot object at 0x7fec5d7a6940>,\n",
       "        <matplotlib.axes._subplots.AxesSubplot object at 0x7fec5d76a5f8>,\n",
       "        <matplotlib.axes._subplots.AxesSubplot object at 0x7fec5d6b5b00>],\n",
       "       [<matplotlib.axes._subplots.AxesSubplot object at 0x7fec5d678e80>,\n",
       "        <matplotlib.axes._subplots.AxesSubplot object at 0x7fec5d64c4a8>,\n",
       "        <matplotlib.axes._subplots.AxesSubplot object at 0x7fec5d609e80>,\n",
       "        <matplotlib.axes._subplots.AxesSubplot object at 0x7fec5d5dc470>,\n",
       "        <matplotlib.axes._subplots.AxesSubplot object at 0x7fec5d597e80>,\n",
       "        <matplotlib.axes._subplots.AxesSubplot object at 0x7fec5d4ec4a8>,\n",
       "        <matplotlib.axes._subplots.AxesSubplot object at 0x7fec5d502358>,\n",
       "        <matplotlib.axes._subplots.AxesSubplot object at 0x7fec5d47e4a8>],\n",
       "       [<matplotlib.axes._subplots.AxesSubplot object at 0x7fec5d44a898>,\n",
       "        <matplotlib.axes._subplots.AxesSubplot object at 0x7fec5d40e2b0>,\n",
       "        <matplotlib.axes._subplots.AxesSubplot object at 0x7fec5d3dd6a0>,\n",
       "        <matplotlib.axes._subplots.AxesSubplot object at 0x7fec5d3a02e8>,\n",
       "        <matplotlib.axes._subplots.AxesSubplot object at 0x7fec5d2ed320>,\n",
       "        <matplotlib.axes._subplots.AxesSubplot object at 0x7fec5d2b0e48>,\n",
       "        <matplotlib.axes._subplots.AxesSubplot object at 0x7fec5d2812b0>,\n",
       "        <matplotlib.axes._subplots.AxesSubplot object at 0x7fec5d245710>],\n",
       "       [<matplotlib.axes._subplots.AxesSubplot object at 0x7fec5d212cf8>,\n",
       "        <matplotlib.axes._subplots.AxesSubplot object at 0x7fec5d1d4710>,\n",
       "        <matplotlib.axes._subplots.AxesSubplot object at 0x7fec5d1a3cc0>,\n",
       "        <matplotlib.axes._subplots.AxesSubplot object at 0x7fec5d828908>,\n",
       "        <matplotlib.axes._subplots.AxesSubplot object at 0x7fec5d11f320>,\n",
       "        <matplotlib.axes._subplots.AxesSubplot object at 0x7fec5d06dcf8>,\n",
       "        <matplotlib.axes._subplots.AxesSubplot object at 0x7fec5d02f8d0>,\n",
       "        <matplotlib.axes._subplots.AxesSubplot object at 0x7fec5d001898>],\n",
       "       [<matplotlib.axes._subplots.AxesSubplot object at 0x7fec5cfc1320>,\n",
       "        <matplotlib.axes._subplots.AxesSubplot object at 0x7fec5cf8d710>,\n",
       "        <matplotlib.axes._subplots.AxesSubplot object at 0x7fec5cf52240>,\n",
       "        <matplotlib.axes._subplots.AxesSubplot object at 0x7fec5cf1e278>,\n",
       "        <matplotlib.axes._subplots.AxesSubplot object at 0x7fec5cee0da0>,\n",
       "        <matplotlib.axes._subplots.AxesSubplot object at 0x7fec5ce33208>,\n",
       "        <matplotlib.axes._subplots.AxesSubplot object at 0x7fec5cdf7668>,\n",
       "        <matplotlib.axes._subplots.AxesSubplot object at 0x7fec5cdc2c50>],\n",
       "       [<matplotlib.axes._subplots.AxesSubplot object at 0x7fec5cd88668>,\n",
       "        <matplotlib.axes._subplots.AxesSubplot object at 0x7fec5cd53c18>,\n",
       "        <matplotlib.axes._subplots.AxesSubplot object at 0x7fec5cd18668>,\n",
       "        <matplotlib.axes._subplots.AxesSubplot object at 0x7fec5cce4c50>,\n",
       "        <matplotlib.axes._subplots.AxesSubplot object at 0x7fec5cc79278>,\n",
       "        <matplotlib.axes._subplots.AxesSubplot object at 0x7fec5cbf4c50>,\n",
       "        <matplotlib.axes._subplots.AxesSubplot object at 0x7fec5cbca080>,\n",
       "        <matplotlib.axes._subplots.AxesSubplot object at 0x7fec5cb87a58>]], dtype=object)"
      ]
     },
     "execution_count": 12,
     "metadata": {},
     "output_type": "execute_result"
    }
   ],
   "source": [
    "scatter_matrix(pizza_data, diagonal='kde', figsize=(10, 8))"
   ]
  },
  {
   "cell_type": "code",
   "execution_count": 13,
   "metadata": {
    "collapsed": false,
    "deletable": true,
    "editable": true
   },
   "outputs": [
    {
     "data": {
      "image/png": "[encoded data removed]",
      "text/plain": [
       "<matplotlib.figure.Figure at 0x7fec5feb7400>"
      ]
     },
     "metadata": {},
     "output_type": "display_data"
    }
   ],
   "source": [
    "plt.show()"
   ]
  },
  {
   "cell_type": "markdown",
   "metadata": {
    "deletable": true,
    "editable": true
   },
   "source": [
    "## model with all features"
   ]
  },
  {
   "cell_type": "code",
   "execution_count": 14,
   "metadata": {
    "collapsed": false,
    "deletable": true,
    "editable": true
   },
   "outputs": [],
   "source": [
    "model = sm.ols(formula = 'PizzaDemand ~ PizzaPrice + BurgerPrice + RoomTemperature + DeliveryMode + Income + Location + softdrinkPrice', data=train).fit()"
   ]
  },
  {
   "cell_type": "code",
   "execution_count": 15,
   "metadata": {
    "collapsed": false,
    "deletable": true,
    "editable": true
   },
   "outputs": [
    {
     "data": {
      "text/html": [
       "<table class=\"simpletable\">\n",
       "<caption>OLS Regression Results</caption>\n",
       "<tr>\n",
       "  <th>Dep. Variable:</th>       <td>PizzaDemand</td>   <th>  R-squared:         </th> <td>   1.000</td> \n",
       "</tr>\n",
       "<tr>\n",
       "  <th>Model:</th>                   <td>OLS</td>       <th>  Adj. R-squared:    </th> <td>   1.000</td> \n",
       "</tr>\n",
       "<tr>\n",
       "  <th>Method:</th>             <td>Least Squares</td>  <th>  F-statistic:       </th> <td>8.667e+05</td>\n",
       "</tr>\n",
       "<tr>\n",
       "  <th>Date:</th>             <td>Fri, 31 Mar 2017</td> <th>  Prob (F-statistic):</th> <td>5.43e-175</td>\n",
       "</tr>\n",
       "<tr>\n",
       "  <th>Time:</th>                 <td>16:58:05</td>     <th>  Log-Likelihood:    </th> <td>  336.43</td> \n",
       "</tr>\n",
       "<tr>\n",
       "  <th>No. Observations:</th>      <td>    80</td>      <th>  AIC:               </th> <td>  -658.9</td> \n",
       "</tr>\n",
       "<tr>\n",
       "  <th>Df Residuals:</th>          <td>    73</td>      <th>  BIC:               </th> <td>  -642.2</td> \n",
       "</tr>\n",
       "<tr>\n",
       "  <th>Df Model:</th>              <td>     6</td>      <th>                     </th>     <td> </td>    \n",
       "</tr>\n",
       "<tr>\n",
       "  <th>Covariance Type:</th>      <td>nonrobust</td>    <th>                     </th>     <td> </td>    \n",
       "</tr>\n",
       "</table>\n",
       "<table class=\"simpletable\">\n",
       "<tr>\n",
       "         <td></td>            <th>coef</th>     <th>std err</th>      <th>t</th>      <th>P>|t|</th>  <th>[0.025</th>    <th>0.975]</th>  \n",
       "</tr>\n",
       "<tr>\n",
       "  <th>Intercept</th>       <td>   -0.0001</td> <td>    0.002</td> <td>   -0.058</td> <td> 0.954</td> <td>   -0.004</td> <td>    0.004</td>\n",
       "</tr>\n",
       "<tr>\n",
       "  <th>PizzaPrice</th>      <td>-3.133e+07</td> <td> 1.08e+11</td> <td>   -0.000</td> <td> 1.000</td> <td>-2.15e+11</td> <td> 2.15e+11</td>\n",
       "</tr>\n",
       "<tr>\n",
       "  <th>BurgerPrice</th>     <td> 3.133e+07</td> <td> 1.08e+11</td> <td>    0.000</td> <td> 1.000</td> <td>-2.15e+11</td> <td> 2.15e+11</td>\n",
       "</tr>\n",
       "<tr>\n",
       "  <th>RoomTemperature</th> <td>-6.181e-07</td> <td>    0.000</td> <td>   -0.001</td> <td> 0.999</td> <td>   -0.001</td> <td>    0.001</td>\n",
       "</tr>\n",
       "<tr>\n",
       "  <th>DeliveryMode</th>    <td> 4.357e-05</td> <td>    0.001</td> <td>    0.050</td> <td> 0.960</td> <td>   -0.002</td> <td>    0.002</td>\n",
       "</tr>\n",
       "<tr>\n",
       "  <th>Income</th>          <td>    0.9629</td> <td>    0.000</td> <td> 2125.144</td> <td> 0.000</td> <td>    0.962</td> <td>    0.964</td>\n",
       "</tr>\n",
       "<tr>\n",
       "  <th>Location</th>        <td> 2.468e-05</td> <td>    0.001</td> <td>    0.027</td> <td> 0.979</td> <td>   -0.002</td> <td>    0.002</td>\n",
       "</tr>\n",
       "<tr>\n",
       "  <th>softdrinkPrice</th>  <td>   -0.1981</td> <td>    0.000</td> <td> -472.813</td> <td> 0.000</td> <td>   -0.199</td> <td>   -0.197</td>\n",
       "</tr>\n",
       "</table>\n",
       "<table class=\"simpletable\">\n",
       "<tr>\n",
       "  <th>Omnibus:</th>       <td> 0.341</td> <th>  Durbin-Watson:     </th> <td>   1.908</td>\n",
       "</tr>\n",
       "<tr>\n",
       "  <th>Prob(Omnibus):</th> <td> 0.843</td> <th>  Jarque-Bera (JB):  </th> <td>   0.339</td>\n",
       "</tr>\n",
       "<tr>\n",
       "  <th>Skew:</th>          <td> 0.147</td> <th>  Prob(JB):          </th> <td>   0.844</td>\n",
       "</tr>\n",
       "<tr>\n",
       "  <th>Kurtosis:</th>      <td> 2.877</td> <th>  Cond. No.          </th> <td>8.82e+14</td>\n",
       "</tr>\n",
       "</table>"
      ],
      "text/plain": [
       "<class 'statsmodels.iolib.summary.Summary'>\n",
       "\"\"\"\n",
       "                            OLS Regression Results                            \n",
       "==============================================================================\n",
       "Dep. Variable:            PizzaDemand   R-squared:                       1.000\n",
       "Model:                            OLS   Adj. R-squared:                  1.000\n",
       "Method:                 Least Squares   F-statistic:                 8.667e+05\n",
       "Date:                Fri, 31 Mar 2017   Prob (F-statistic):          5.43e-175\n",
       "Time:                        16:58:05   Log-Likelihood:                 336.43\n",
       "No. Observations:                  80   AIC:                            -658.9\n",
       "Df Residuals:                      73   BIC:                            -642.2\n",
       "Df Model:                           6                                         \n",
       "Covariance Type:            nonrobust                                         \n",
       "===================================================================================\n",
       "                      coef    std err          t      P>|t|      [0.025      0.975]\n",
       "-----------------------------------------------------------------------------------\n",
       "Intercept          -0.0001      0.002     -0.058      0.954      -0.004       0.004\n",
       "PizzaPrice      -3.133e+07   1.08e+11     -0.000      1.000   -2.15e+11    2.15e+11\n",
       "BurgerPrice      3.133e+07   1.08e+11      0.000      1.000   -2.15e+11    2.15e+11\n",
       "RoomTemperature -6.181e-07      0.000     -0.001      0.999      -0.001       0.001\n",
       "DeliveryMode     4.357e-05      0.001      0.050      0.960      -0.002       0.002\n",
       "Income              0.9629      0.000   2125.144      0.000       0.962       0.964\n",
       "Location         2.468e-05      0.001      0.027      0.979      -0.002       0.002\n",
       "softdrinkPrice     -0.1981      0.000   -472.813      0.000      -0.199      -0.197\n",
       "==============================================================================\n",
       "Omnibus:                        0.341   Durbin-Watson:                   1.908\n",
       "Prob(Omnibus):                  0.843   Jarque-Bera (JB):                0.339\n",
       "Skew:                           0.147   Prob(JB):                        0.844\n",
       "Kurtosis:                       2.877   Cond. No.                     8.82e+14\n",
       "==============================================================================\n",
       "\n",
       "Warnings:\n",
       "[1] Standard Errors assume that the covariance matrix of the errors is correctly specified.\n",
       "[2] The smallest eigenvalue is 6.11e-28. This might indicate that there are\n",
       "strong multicollinearity problems or that the design matrix is singular.\n",
       "\"\"\""
      ]
     },
     "execution_count": 15,
     "metadata": {},
     "output_type": "execute_result"
    }
   ],
   "source": [
    "model.summary()"
   ]
  },
  {
   "cell_type": "code",
   "execution_count": 16,
   "metadata": {
    "collapsed": false,
    "deletable": true,
    "editable": true
   },
   "outputs": [],
   "source": [
    "predictions = model.predict(x_test)"
   ]
  },
  {
   "cell_type": "code",
   "execution_count": 17,
   "metadata": {
    "collapsed": true,
    "deletable": true,
    "editable": true
   },
   "outputs": [],
   "source": [
    "mse = np.mean((predictions - y_test)**2)"
   ]
  },
  {
   "cell_type": "code",
   "execution_count": 18,
   "metadata": {
    "collapsed": true,
    "deletable": true,
    "editable": true
   },
   "outputs": [],
   "source": [
    "rmse = mse**0.5"
   ]
  },
  {
   "cell_type": "code",
   "execution_count": 19,
   "metadata": {
    "collapsed": false,
    "deletable": true,
    "editable": true
   },
   "outputs": [
    {
     "data": {
      "text/plain": [
       "0.0033968462504870849"
      ]
     },
     "execution_count": 19,
     "metadata": {},
     "output_type": "execute_result"
    }
   ],
   "source": [
    "rmse"
   ]
  },
  {
   "cell_type": "code",
   "execution_count": 20,
   "metadata": {
    "collapsed": false,
    "deletable": true,
    "editable": true
   },
   "outputs": [
    {
     "data": {
      "text/plain": [
       "[<matplotlib.lines.Line2D at 0x7fec5c703278>]"
      ]
     },
     "execution_count": 20,
     "metadata": {},
     "output_type": "execute_result"
    }
   ],
   "source": [
    "plt.plot(y_test, predictions)"
   ]
  },
  {
   "cell_type": "code",
   "execution_count": 21,
   "metadata": {
    "collapsed": false,
    "deletable": true,
    "editable": true
   },
   "outputs": [
    {
     "data": {
      "image/png": "[encoded data removed]",
      "text/plain": [
       "<matplotlib.figure.Figure at 0x7fec5c93b4e0>"
      ]
     },
     "metadata": {},
     "output_type": "display_data"
    }
   ],
   "source": [
    "plt.show()"
   ]
  },
  {
   "cell_type": "code",
   "execution_count": 22,
   "metadata": {
    "collapsed": true,
    "deletable": true,
    "editable": true
   },
   "outputs": [],
   "source": [
    "residuals = y_test - predictions"
   ]
  },
  {
   "cell_type": "code",
   "execution_count": 23,
   "metadata": {
    "collapsed": false,
    "deletable": true,
    "editable": true
   },
   "outputs": [
    {
     "data": {
      "image/png": "[encoded data removed]",
      "text/plain": [
       "<matplotlib.figure.Figure at 0x7fec5c907978>"
      ]
     },
     "metadata": {},
     "output_type": "display_data"
    }
   ],
   "source": [
    "plt.hist(residuals, bins=5)\n",
    "plt.show()"
   ]
  },
  {
   "cell_type": "code",
   "execution_count": 24,
   "metadata": {
    "collapsed": false,
    "deletable": true,
    "editable": true
   },
   "outputs": [
    {
     "data": {
      "image/png": "[encoded data removed]",
      "text/plain": [
       "<matplotlib.figure.Figure at 0x7fec5c8dbeb8>"
      ]
     },
     "metadata": {},
     "output_type": "display_data"
    }
   ],
   "source": [
    "residuals.plot(kind='box')\n",
    "plt.show()"
   ]
  },
  {
   "cell_type": "code",
   "execution_count": 25,
   "metadata": {
    "collapsed": false,
    "deletable": true,
    "editable": true
   },
   "outputs": [
    {
     "data": {
      "text/plain": [
       "[('F statistic', 1.7759263355617032), ('p-value', 0.051952981249408538)]"
      ]
     },
     "execution_count": 25,
     "metadata": {},
     "output_type": "execute_result"
    }
   ],
   "source": [
    "name = ['F statistic', 'p-value']\n",
    "test = sms.het_goldfeldquandt(model.resid, model.model.exog)\n",
    "list(zip(name, test))"
   ]
  },
  {
   "cell_type": "markdown",
   "metadata": {
    "deletable": true,
    "editable": true
   },
   "source": [
    "## model dropping room temperature"
   ]
  },
  {
   "cell_type": "code",
   "execution_count": 26,
   "metadata": {
    "collapsed": false,
    "deletable": true,
    "editable": true
   },
   "outputs": [],
   "source": [
    "model_income = sm.ols(formula='PizzaDemand ~ Income + BurgerPrice + PizzaPrice + softdrinkPrice + DeliveryMode + Location', data=train).fit()"
   ]
  },
  {
   "cell_type": "code",
   "execution_count": 27,
   "metadata": {
    "collapsed": false,
    "deletable": true,
    "editable": true
   },
   "outputs": [],
   "source": [
    "predictions_income = model_income.predict(x_test)"
   ]
  },
  {
   "cell_type": "code",
   "execution_count": 28,
   "metadata": {
    "collapsed": true,
    "deletable": true,
    "editable": true
   },
   "outputs": [],
   "source": [
    "rmse = np.mean((predictions_income - y_test)**2)**0.5"
   ]
  },
  {
   "cell_type": "code",
   "execution_count": 29,
   "metadata": {
    "collapsed": false,
    "deletable": true,
    "editable": true
   },
   "outputs": [
    {
     "data": {
      "text/plain": [
       "0.00031704073284894249"
      ]
     },
     "execution_count": 29,
     "metadata": {},
     "output_type": "execute_result"
    }
   ],
   "source": [
    "rmse"
   ]
  },
  {
   "cell_type": "code",
   "execution_count": 30,
   "metadata": {
    "collapsed": false,
    "deletable": true,
    "editable": true
   },
   "outputs": [
    {
     "data": {
      "image/png": "[encoded data removed]",
      "text/plain": [
       "<matplotlib.figure.Figure at 0x7fec5c84ab00>"
      ]
     },
     "metadata": {},
     "output_type": "display_data"
    }
   ],
   "source": [
    "plt.plot(y_test, predictions_income)\n",
    "plt.show()"
   ]
  },
  {
   "cell_type": "code",
   "execution_count": 31,
   "metadata": {
    "collapsed": true,
    "deletable": true,
    "editable": true
   },
   "outputs": [],
   "source": [
    "residuals = y_test - predictions_income"
   ]
  },
  {
   "cell_type": "code",
   "execution_count": 32,
   "metadata": {
    "collapsed": false,
    "deletable": true,
    "editable": true
   },
   "outputs": [
    {
     "data": {
      "image/png": "[encoded data removed]",
      "text/plain": [
       "<matplotlib.figure.Figure at 0x7fec5c7cfcc0>"
      ]
     },
     "metadata": {},
     "output_type": "display_data"
    }
   ],
   "source": [
    "plt.hist(residuals, bins=5)\n",
    "plt.show()"
   ]
  },
  {
   "cell_type": "code",
   "execution_count": 33,
   "metadata": {
    "collapsed": false,
    "deletable": true,
    "editable": true
   },
   "outputs": [
    {
     "data": {
      "image/png": "[encoded data removed]",
      "text/plain": [
       "<matplotlib.figure.Figure at 0x7fec5ae6c240>"
      ]
     },
     "metadata": {},
     "output_type": "display_data"
    }
   ],
   "source": [
    "residuals.plot(kind='box')\n",
    "plt.show()"
   ]
  },
  {
   "cell_type": "code",
   "execution_count": 34,
   "metadata": {
    "collapsed": false,
    "deletable": true,
    "editable": true
   },
   "outputs": [
    {
     "data": {
      "text/plain": [
       "[('F statistic', 1.7938599448762824), ('p-value', 0.046525582442739785)]"
      ]
     },
     "execution_count": 34,
     "metadata": {},
     "output_type": "execute_result"
    }
   ],
   "source": [
    "name = ['F statistic', 'p-value']\n",
    "test = sms.het_goldfeldquandt(model_income.resid, model_income.model.exog)\n",
    "list(zip(name, test))"
   ]
  },
  {
   "cell_type": "markdown",
   "metadata": {
    "deletable": true,
    "editable": true
   },
   "source": [
    "## model with few features"
   ]
  },
  {
   "cell_type": "code",
   "execution_count": 35,
   "metadata": {
    "collapsed": true,
    "deletable": true,
    "editable": true
   },
   "outputs": [],
   "source": [
    "model_room = sm.ols(formula='PizzaDemand ~ Income + PizzaPrice + softdrinkPrice', data=train).fit()"
   ]
  },
  {
   "cell_type": "code",
   "execution_count": 36,
   "metadata": {
    "collapsed": false,
    "deletable": true,
    "editable": true
   },
   "outputs": [
    {
     "data": {
      "text/html": [
       "<table class=\"simpletable\">\n",
       "<caption>OLS Regression Results</caption>\n",
       "<tr>\n",
       "  <th>Dep. Variable:</th>       <td>PizzaDemand</td>   <th>  R-squared:         </th> <td>   1.000</td> \n",
       "</tr>\n",
       "<tr>\n",
       "  <th>Model:</th>                   <td>OLS</td>       <th>  Adj. R-squared:    </th> <td>   1.000</td> \n",
       "</tr>\n",
       "<tr>\n",
       "  <th>Method:</th>             <td>Least Squares</td>  <th>  F-statistic:       </th> <td>1.337e+09</td>\n",
       "</tr>\n",
       "<tr>\n",
       "  <th>Date:</th>             <td>Fri, 31 Mar 2017</td> <th>  Prob (F-statistic):</th> <td>2.49e-293</td>\n",
       "</tr>\n",
       "<tr>\n",
       "  <th>Time:</th>                 <td>16:58:07</td>     <th>  Log-Likelihood:    </th> <td>  600.74</td> \n",
       "</tr>\n",
       "<tr>\n",
       "  <th>No. Observations:</th>      <td>    80</td>      <th>  AIC:               </th> <td>  -1193.</td> \n",
       "</tr>\n",
       "<tr>\n",
       "  <th>Df Residuals:</th>          <td>    76</td>      <th>  BIC:               </th> <td>  -1184.</td> \n",
       "</tr>\n",
       "<tr>\n",
       "  <th>Df Model:</th>              <td>     3</td>      <th>                     </th>     <td> </td>    \n",
       "</tr>\n",
       "<tr>\n",
       "  <th>Covariance Type:</th>      <td>nonrobust</td>    <th>                     </th>     <td> </td>    \n",
       "</tr>\n",
       "</table>\n",
       "<table class=\"simpletable\">\n",
       "<tr>\n",
       "         <td></td>           <th>coef</th>     <th>std err</th>      <th>t</th>      <th>P>|t|</th>  <th>[0.025</th>    <th>0.975]</th>  \n",
       "</tr>\n",
       "<tr>\n",
       "  <th>Intercept</th>      <td>-3.025e-06</td> <td> 1.52e-05</td> <td>   -0.199</td> <td> 0.843</td> <td>-3.34e-05</td> <td> 2.73e-05</td>\n",
       "</tr>\n",
       "<tr>\n",
       "  <th>Income</th>         <td>    0.9629</td> <td> 1.57e-05</td> <td> 6.13e+04</td> <td> 0.000</td> <td>    0.963</td> <td>    0.963</td>\n",
       "</tr>\n",
       "<tr>\n",
       "  <th>PizzaPrice</th>     <td>    0.0349</td> <td> 1.54e-05</td> <td> 2267.747</td> <td> 0.000</td> <td>    0.035</td> <td>    0.035</td>\n",
       "</tr>\n",
       "<tr>\n",
       "  <th>softdrinkPrice</th> <td>   -0.1981</td> <td> 1.49e-05</td> <td>-1.33e+04</td> <td> 0.000</td> <td>   -0.198</td> <td>   -0.198</td>\n",
       "</tr>\n",
       "</table>\n",
       "<table class=\"simpletable\">\n",
       "<tr>\n",
       "  <th>Omnibus:</th>       <td> 0.027</td> <th>  Durbin-Watson:     </th> <td>   2.308</td>\n",
       "</tr>\n",
       "<tr>\n",
       "  <th>Prob(Omnibus):</th> <td> 0.987</td> <th>  Jarque-Bera (JB):  </th> <td>   0.181</td>\n",
       "</tr>\n",
       "<tr>\n",
       "  <th>Skew:</th>          <td> 0.003</td> <th>  Prob(JB):          </th> <td>   0.913</td>\n",
       "</tr>\n",
       "<tr>\n",
       "  <th>Kurtosis:</th>      <td> 2.767</td> <th>  Cond. No.          </th> <td>    1.16</td>\n",
       "</tr>\n",
       "</table>"
      ],
      "text/plain": [
       "<class 'statsmodels.iolib.summary.Summary'>\n",
       "\"\"\"\n",
       "                            OLS Regression Results                            \n",
       "==============================================================================\n",
       "Dep. Variable:            PizzaDemand   R-squared:                       1.000\n",
       "Model:                            OLS   Adj. R-squared:                  1.000\n",
       "Method:                 Least Squares   F-statistic:                 1.337e+09\n",
       "Date:                Fri, 31 Mar 2017   Prob (F-statistic):          2.49e-293\n",
       "Time:                        16:58:07   Log-Likelihood:                 600.74\n",
       "No. Observations:                  80   AIC:                            -1193.\n",
       "Df Residuals:                      76   BIC:                            -1184.\n",
       "Df Model:                           3                                         \n",
       "Covariance Type:            nonrobust                                         \n",
       "==================================================================================\n",
       "                     coef    std err          t      P>|t|      [0.025      0.975]\n",
       "----------------------------------------------------------------------------------\n",
       "Intercept      -3.025e-06   1.52e-05     -0.199      0.843   -3.34e-05    2.73e-05\n",
       "Income             0.9629   1.57e-05   6.13e+04      0.000       0.963       0.963\n",
       "PizzaPrice         0.0349   1.54e-05   2267.747      0.000       0.035       0.035\n",
       "softdrinkPrice    -0.1981   1.49e-05  -1.33e+04      0.000      -0.198      -0.198\n",
       "==============================================================================\n",
       "Omnibus:                        0.027   Durbin-Watson:                   2.308\n",
       "Prob(Omnibus):                  0.987   Jarque-Bera (JB):                0.181\n",
       "Skew:                           0.003   Prob(JB):                        0.913\n",
       "Kurtosis:                       2.767   Cond. No.                         1.16\n",
       "==============================================================================\n",
       "\n",
       "Warnings:\n",
       "[1] Standard Errors assume that the covariance matrix of the errors is correctly specified.\n",
       "\"\"\""
      ]
     },
     "execution_count": 36,
     "metadata": {},
     "output_type": "execute_result"
    }
   ],
   "source": [
    "model_room.summary()"
   ]
  },
  {
   "cell_type": "code",
   "execution_count": 37,
   "metadata": {
    "collapsed": false,
    "deletable": true,
    "editable": true
   },
   "outputs": [],
   "source": [
    "predictions_room = model_room.predict(x_test)"
   ]
  },
  {
   "cell_type": "code",
   "execution_count": 38,
   "metadata": {
    "collapsed": false,
    "deletable": true,
    "editable": true
   },
   "outputs": [
    {
     "data": {
      "text/plain": [
       "0.00017988790379862692"
      ]
     },
     "execution_count": 38,
     "metadata": {},
     "output_type": "execute_result"
    }
   ],
   "source": [
    "np.mean((predictions_room - y_test)**2)**0.5"
   ]
  },
  {
   "cell_type": "code",
   "execution_count": 39,
   "metadata": {
    "collapsed": true,
    "deletable": true,
    "editable": true
   },
   "outputs": [],
   "source": [
    "residuals = y_test - predictions_room"
   ]
  },
  {
   "cell_type": "code",
   "execution_count": 40,
   "metadata": {
    "collapsed": false,
    "deletable": true,
    "editable": true
   },
   "outputs": [
    {
     "data": {
      "image/png": "[encoded data removed]",
      "text/plain": [
       "<matplotlib.figure.Figure at 0x7fec5ae505c0>"
      ]
     },
     "metadata": {},
     "output_type": "display_data"
    }
   ],
   "source": [
    "plt.scatter(y_test, predictions_room)\n",
    "plt.plot(y_test, predictions_room)\n",
    "plt.show()"
   ]
  },
  {
   "cell_type": "code",
   "execution_count": 41,
   "metadata": {
    "collapsed": false,
    "deletable": true,
    "editable": true
   },
   "outputs": [
    {
     "data": {
      "text/plain": [
       "(array([ 2.,  6.,  6.,  1.,  2.]),\n",
       " array([ -2.83561060e-04,  -1.39525674e-04,   4.50971266e-06,\n",
       "          1.48545099e-04,   2.92580485e-04,   4.36615871e-04]),\n",
       " <a list of 5 Patch objects>)"
      ]
     },
     "execution_count": 41,
     "metadata": {},
     "output_type": "execute_result"
    }
   ],
   "source": [
    "plt.hist(residuals, bins=5)"
   ]
  },
  {
   "cell_type": "code",
   "execution_count": 42,
   "metadata": {
    "collapsed": false,
    "deletable": true,
    "editable": true
   },
   "outputs": [
    {
     "data": {
      "image/png": "[encoded data removed]",
      "text/plain": [
       "<matplotlib.figure.Figure at 0x7fec5c865cc0>"
      ]
     },
     "metadata": {},
     "output_type": "display_data"
    }
   ],
   "source": [
    "plt.show()"
   ]
  },
  {
   "cell_type": "code",
   "execution_count": 43,
   "metadata": {
    "collapsed": false,
    "deletable": true,
    "editable": true
   },
   "outputs": [
    {
     "data": {
      "text/plain": [
       "<matplotlib.axes._subplots.AxesSubplot at 0x7fec5adcc3c8>"
      ]
     },
     "execution_count": 43,
     "metadata": {},
     "output_type": "execute_result"
    }
   ],
   "source": [
    "residuals.plot(kind='box')"
   ]
  },
  {
   "cell_type": "code",
   "execution_count": 44,
   "metadata": {
    "collapsed": false,
    "deletable": true,
    "editable": true
   },
   "outputs": [
    {
     "data": {
      "image/png": "[encoded data removed]",
      "text/plain": [
       "<matplotlib.figure.Figure at 0x7fec5acd3780>"
      ]
     },
     "metadata": {},
     "output_type": "display_data"
    }
   ],
   "source": [
    "plt.show()"
   ]
  },
  {
   "cell_type": "code",
   "execution_count": 45,
   "metadata": {
    "collapsed": false,
    "deletable": true,
    "editable": true
   },
   "outputs": [
    {
     "data": {
      "text/plain": [
       "[('F statistic', 1.5194424156342867), ('p-value', 0.1071408441301195)]"
      ]
     },
     "execution_count": 45,
     "metadata": {},
     "output_type": "execute_result"
    }
   ],
   "source": [
    "name = ['F statistic', 'p-value']\n",
    "test = sms.het_goldfeldquandt(model_room.resid, model_room.model.exog)\n",
    "list(zip(name, test))"
   ]
  },
  {
   "cell_type": "markdown",
   "metadata": {
    "collapsed": true,
    "deletable": true,
    "editable": true
   },
   "source": [
    "## Ridge"
   ]
  },
  {
   "cell_type": "code",
   "execution_count": 46,
   "metadata": {
    "collapsed": false,
    "deletable": true,
    "editable": true
   },
   "outputs": [
    {
     "data": {
      "text/html": [
       "<div>\n",
       "<table border=\"1\" class=\"dataframe\">\n",
       "  <thead>\n",
       "    <tr style=\"text-align: right;\">\n",
       "      <th></th>\n",
       "      <th>PizzaPrice</th>\n",
       "      <th>BurgerPrice</th>\n",
       "      <th>RoomTemperature</th>\n",
       "      <th>DeliveryMode</th>\n",
       "      <th>Income</th>\n",
       "      <th>softdrinkPrice</th>\n",
       "      <th>Location</th>\n",
       "      <th>alphas</th>\n",
       "    </tr>\n",
       "  </thead>\n",
       "  <tbody>\n",
       "    <tr>\n",
       "      <th>0</th>\n",
       "      <td>0.017430</td>\n",
       "      <td>0.017430</td>\n",
       "      <td>-0.000002</td>\n",
       "      <td>0.000041</td>\n",
       "      <td>0.962923</td>\n",
       "      <td>-0.198137</td>\n",
       "      <td>0.000020</td>\n",
       "      <td>0.001000</td>\n",
       "    </tr>\n",
       "    <tr>\n",
       "      <th>1</th>\n",
       "      <td>0.017452</td>\n",
       "      <td>0.017452</td>\n",
       "      <td>-0.000071</td>\n",
       "      <td>-0.000065</td>\n",
       "      <td>0.962375</td>\n",
       "      <td>-0.198023</td>\n",
       "      <td>-0.000182</td>\n",
       "      <td>0.041394</td>\n",
       "    </tr>\n",
       "    <tr>\n",
       "      <th>2</th>\n",
       "      <td>0.017474</td>\n",
       "      <td>0.017474</td>\n",
       "      <td>-0.000140</td>\n",
       "      <td>-0.000170</td>\n",
       "      <td>0.961827</td>\n",
       "      <td>-0.197910</td>\n",
       "      <td>-0.000382</td>\n",
       "      <td>0.081788</td>\n",
       "    </tr>\n",
       "    <tr>\n",
       "      <th>3</th>\n",
       "      <td>0.017496</td>\n",
       "      <td>0.017496</td>\n",
       "      <td>-0.000209</td>\n",
       "      <td>-0.000275</td>\n",
       "      <td>0.961280</td>\n",
       "      <td>-0.197796</td>\n",
       "      <td>-0.000581</td>\n",
       "      <td>0.122182</td>\n",
       "    </tr>\n",
       "    <tr>\n",
       "      <th>4</th>\n",
       "      <td>0.017518</td>\n",
       "      <td>0.017518</td>\n",
       "      <td>-0.000277</td>\n",
       "      <td>-0.000379</td>\n",
       "      <td>0.960734</td>\n",
       "      <td>-0.197683</td>\n",
       "      <td>-0.000780</td>\n",
       "      <td>0.162576</td>\n",
       "    </tr>\n",
       "  </tbody>\n",
       "</table>\n",
       "</div>"
      ],
      "text/plain": [
       "   PizzaPrice  BurgerPrice  RoomTemperature  DeliveryMode    Income  \\\n",
       "0    0.017430     0.017430        -0.000002      0.000041  0.962923   \n",
       "1    0.017452     0.017452        -0.000071     -0.000065  0.962375   \n",
       "2    0.017474     0.017474        -0.000140     -0.000170  0.961827   \n",
       "3    0.017496     0.017496        -0.000209     -0.000275  0.961280   \n",
       "4    0.017518     0.017518        -0.000277     -0.000379  0.960734   \n",
       "\n",
       "   softdrinkPrice  Location    alphas  \n",
       "0       -0.198137  0.000020  0.001000  \n",
       "1       -0.198023 -0.000182  0.041394  \n",
       "2       -0.197910 -0.000382  0.081788  \n",
       "3       -0.197796 -0.000581  0.122182  \n",
       "4       -0.197683 -0.000780  0.162576  "
      ]
     },
     "execution_count": 46,
     "metadata": {},
     "output_type": "execute_result"
    }
   ],
   "source": [
    "alphas_ridge = np.linspace(0.001,4,100)\n",
    "fdf=pd.DataFrame()\n",
    "model = linear_model.Ridge()\n",
    "coeff = []\n",
    "for a in alphas_ridge:\n",
    "    model.set_params(alpha=a)\n",
    "    model.fit(x_train, y_train)\n",
    "    coeff.append(model.coef_)\n",
    "cdf = pd.DataFrame(coeff, columns=x_train.columns)\n",
    "adf = pd.DataFrame(alphas_ridge, columns=['alphas'])\n",
    "fdf = cdf.join(adf)\n",
    "fdf.head()"
   ]
  },
  {
   "cell_type": "code",
   "execution_count": 47,
   "metadata": {
    "collapsed": false,
    "deletable": true,
    "editable": true
   },
   "outputs": [
    {
     "data": {
      "text/plain": [
       "'file:///home/user/ml_regression/PizzaDataset/RidgeRegression.html'"
      ]
     },
     "execution_count": 47,
     "metadata": {},
     "output_type": "execute_result"
    }
   ],
   "source": [
    "trace0 = Scatter(\n",
    "    x = alphas_ridge,\n",
    "    y = fdf['PizzaPrice'],\n",
    "    name = 'PizzaPrice',\n",
    "    line = dict(\n",
    "        color = ('rgb(205, 12, 24)'),\n",
    "        width = 4)\n",
    ")\n",
    "trace1 = Scatter(\n",
    "    x = alphas_ridge,\n",
    "    y = fdf['BurgerPrice'],\n",
    "    name = 'BurgerPrice',\n",
    "    line = dict(\n",
    "        color = ('rgb(22, 96, 167)'),\n",
    "        width = 4,)\n",
    ")\n",
    "trace2 = Scatter(\n",
    "    x = alphas_ridge,\n",
    "    y = fdf['RoomTemperature'],\n",
    "    name = 'RoomTemperature',\n",
    "    line = dict(\n",
    "        color = ('rgb(205, 12, 24)'),\n",
    "        width = 4,\n",
    "        dash = 'dash') # dash options include 'dash', 'dot', and 'dashdot'\n",
    ")\n",
    "trace3 = Scatter(\n",
    "    x = alphas_ridge,\n",
    "    y = fdf['DeliveryMode'],\n",
    "    name = 'DeliveryMode',\n",
    "    line = dict(\n",
    "        color = ('rgb(212, 196, 107)'),\n",
    "        width = 4,\n",
    "        dash = 'dash')\n",
    ")\n",
    "trace4 = Scatter(\n",
    "    x = alphas_ridge,\n",
    "    y = fdf['Income'],\n",
    "    name = 'Income',\n",
    "    line = dict(\n",
    "        color = ('rgb(200, 80, 140)'),\n",
    "        width = 4,)\n",
    ")\n",
    "trace5 = Scatter(\n",
    "    x = alphas_ridge,\n",
    "    y = fdf['softdrinkPrice'],\n",
    "    name = 'softdrinkPrice',\n",
    "    line = dict(\n",
    "        color = ('rgb(102, 46, 100)'),\n",
    "        width = 4,\n",
    "        dash = 'dash')\n",
    ")\n",
    "trace6 = Scatter(\n",
    "    x = alphas_ridge,\n",
    "    y = fdf['Location'],\n",
    "    name = 'Location',\n",
    "    line = dict(\n",
    "        color = ('rgb(140, 40, 203)'),\n",
    "        width = 4,)\n",
    ")\n",
    "\n",
    "data = [trace0, trace1, trace2, trace3, trace4, trace5, trace6]\n",
    "\n",
    "# Edit the layout\n",
    "layout = dict(xaxis = dict(title = 'alpha'),\n",
    "              yaxis = dict(title = 'Weights'),\n",
    "              )\n",
    "\n",
    "fig = dict(data=data, layout=layout)\n",
    "plotly.offline.plot(fig, filename='RidgeRegression.html')"
   ]
  },
  {
   "cell_type": "markdown",
   "metadata": {
    "deletable": true,
    "editable": true
   },
   "source": [
    "## Lasso"
   ]
  },
  {
   "cell_type": "code",
   "execution_count": 48,
   "metadata": {
    "collapsed": false,
    "deletable": true,
    "editable": true
   },
   "outputs": [
    {
     "data": {
      "text/html": [
       "<div>\n",
       "<table border=\"1\" class=\"dataframe\">\n",
       "  <thead>\n",
       "    <tr style=\"text-align: right;\">\n",
       "      <th></th>\n",
       "      <th>PizzaPrice</th>\n",
       "      <th>BurgerPrice</th>\n",
       "      <th>RoomTemperature</th>\n",
       "      <th>DeliveryMode</th>\n",
       "      <th>Income</th>\n",
       "      <th>softdrinkPrice</th>\n",
       "      <th>Location</th>\n",
       "      <th>alphas</th>\n",
       "    </tr>\n",
       "  </thead>\n",
       "  <tbody>\n",
       "    <tr>\n",
       "      <th>0</th>\n",
       "      <td>2005.913405</td>\n",
       "      <td>-2006.940737</td>\n",
       "      <td>1.423931</td>\n",
       "      <td>-4.389302</td>\n",
       "      <td>2.527459</td>\n",
       "      <td>-1.402365</td>\n",
       "      <td>5.741472</td>\n",
       "      <td>-1.000000</td>\n",
       "    </tr>\n",
       "    <tr>\n",
       "      <th>1</th>\n",
       "      <td>1965.390606</td>\n",
       "      <td>-1966.396479</td>\n",
       "      <td>1.395165</td>\n",
       "      <td>-4.300629</td>\n",
       "      <td>2.495853</td>\n",
       "      <td>-1.378037</td>\n",
       "      <td>5.625483</td>\n",
       "      <td>-0.979798</td>\n",
       "    </tr>\n",
       "    <tr>\n",
       "      <th>2</th>\n",
       "      <td>1924.867807</td>\n",
       "      <td>-1925.852222</td>\n",
       "      <td>1.366399</td>\n",
       "      <td>-4.211955</td>\n",
       "      <td>2.464246</td>\n",
       "      <td>-1.353709</td>\n",
       "      <td>5.509494</td>\n",
       "      <td>-0.959596</td>\n",
       "    </tr>\n",
       "    <tr>\n",
       "      <th>3</th>\n",
       "      <td>1884.345008</td>\n",
       "      <td>-1885.307965</td>\n",
       "      <td>1.337632</td>\n",
       "      <td>-4.123281</td>\n",
       "      <td>2.432639</td>\n",
       "      <td>-1.329381</td>\n",
       "      <td>5.393506</td>\n",
       "      <td>-0.939394</td>\n",
       "    </tr>\n",
       "    <tr>\n",
       "      <th>4</th>\n",
       "      <td>1843.822209</td>\n",
       "      <td>-1844.763708</td>\n",
       "      <td>1.308866</td>\n",
       "      <td>-4.034608</td>\n",
       "      <td>2.401033</td>\n",
       "      <td>-1.305053</td>\n",
       "      <td>5.277517</td>\n",
       "      <td>-0.919192</td>\n",
       "    </tr>\n",
       "  </tbody>\n",
       "</table>\n",
       "</div>"
      ],
      "text/plain": [
       "    PizzaPrice  BurgerPrice  RoomTemperature  DeliveryMode    Income  \\\n",
       "0  2005.913405 -2006.940737         1.423931     -4.389302  2.527459   \n",
       "1  1965.390606 -1966.396479         1.395165     -4.300629  2.495853   \n",
       "2  1924.867807 -1925.852222         1.366399     -4.211955  2.464246   \n",
       "3  1884.345008 -1885.307965         1.337632     -4.123281  2.432639   \n",
       "4  1843.822209 -1844.763708         1.308866     -4.034608  2.401033   \n",
       "\n",
       "   softdrinkPrice  Location    alphas  \n",
       "0       -1.402365  5.741472 -1.000000  \n",
       "1       -1.378037  5.625483 -0.979798  \n",
       "2       -1.353709  5.509494 -0.959596  \n",
       "3       -1.329381  5.393506 -0.939394  \n",
       "4       -1.305053  5.277517 -0.919192  "
      ]
     },
     "execution_count": 48,
     "metadata": {},
     "output_type": "execute_result"
    }
   ],
   "source": [
    "alphas_lasso = np.linspace(-1,1,100)\n",
    "fdf=pd.DataFrame()\n",
    "model = linear_model.Lasso()\n",
    "coeff = []\n",
    "for a in alphas_lasso:\n",
    "    model.set_params(alpha=a)\n",
    "    model.fit(x_train, y_train)\n",
    "    coeff.append(model.coef_)\n",
    "cdf = pd.DataFrame(coeff, columns=x_train.columns)\n",
    "adf = pd.DataFrame(alphas_lasso, columns=['alphas'])\n",
    "fdf = cdf.join(adf)\n",
    "fdf.head()"
   ]
  },
  {
   "cell_type": "code",
   "execution_count": 49,
   "metadata": {
    "collapsed": false,
    "deletable": true,
    "editable": true
   },
   "outputs": [
    {
     "data": {
      "text/plain": [
       "'file:///home/user/ml_regression/PizzaDataset/LassoRegression.html'"
      ]
     },
     "execution_count": 49,
     "metadata": {},
     "output_type": "execute_result"
    }
   ],
   "source": [
    "trace0 = Scatter(\n",
    "    x = alphas_lasso,\n",
    "    y = fdf['PizzaPrice'],\n",
    "    name = 'PizzaPrice',\n",
    "    line = dict(\n",
    "        color = ('rgb(205, 12, 24)'),\n",
    "        width = 4)\n",
    ")\n",
    "trace1 = Scatter(\n",
    "    x = alphas_lasso,\n",
    "    y = fdf['BurgerPrice'],\n",
    "    name = 'BurgerPrice',\n",
    "    line = dict(\n",
    "        color = ('rgb(22, 96, 167)'),\n",
    "        width = 4,)\n",
    ")\n",
    "trace2 = Scatter(\n",
    "    x = alphas_lasso,\n",
    "    y = fdf['RoomTemperature'],\n",
    "    name = 'RoomTemperature',\n",
    "    line = dict(\n",
    "        color = ('rgb(205, 12, 24)'),\n",
    "        width = 4,\n",
    "        dash = 'dash') # dash options include 'dash', 'dot', and 'dashdot'\n",
    ")\n",
    "trace3 = Scatter(\n",
    "    x = alphas_lasso,\n",
    "    y = fdf['DeliveryMode'],\n",
    "    name = 'DeliveryMode',\n",
    "    line = dict(\n",
    "        color = ('rgb(212, 196, 107)'),\n",
    "        width = 4,\n",
    "        dash = 'dash')\n",
    ")\n",
    "trace4 = Scatter(\n",
    "    x = alphas_lasso,\n",
    "    y = fdf['Income'],\n",
    "    name = 'Income',\n",
    "    line = dict(\n",
    "        color = ('rgb(200, 80, 140)'),\n",
    "        width = 4,)\n",
    ")\n",
    "trace5 = Scatter(\n",
    "    x = alphas_lasso,\n",
    "    y = fdf['softdrinkPrice'],\n",
    "    name = 'softdrinkPrice',\n",
    "    line = dict(\n",
    "        color = ('rgb(102, 46, 100)'),\n",
    "        width = 4,\n",
    "        dash = 'dash')\n",
    ")\n",
    "trace6 = Scatter(\n",
    "    x = alphas_lasso,\n",
    "    y = fdf['Location'],\n",
    "    name = 'Location',\n",
    "    line = dict(\n",
    "        color = ('rgb(140, 40, 203)'),\n",
    "        width = 4,)\n",
    ")\n",
    "\n",
    "data = [trace0, trace1, trace2, trace3, trace4, trace5, trace6]\n",
    "\n",
    "# Edit the layout\n",
    "layout = dict(xaxis = dict(title = 'alpha'),\n",
    "              yaxis = dict(title = 'Weights'),\n",
    "              )\n",
    "\n",
    "fig = dict(data=data, layout=layout)\n",
    "plotly.offline.plot(fig, filename='LassoRegression.html')"
   ]
  },
  {
   "cell_type": "markdown",
   "metadata": {
    "deletable": true,
    "editable": true
   },
   "source": [
    "## RidgeCV"
   ]
  },
  {
   "cell_type": "code",
   "execution_count": 50,
   "metadata": {
    "collapsed": true,
    "deletable": true,
    "editable": true
   },
   "outputs": [],
   "source": [
    "ridgecv = linear_model.RidgeCV(alphas=alphas_ridge, scoring='neg_mean_squared_error')"
   ]
  },
  {
   "cell_type": "code",
   "execution_count": 51,
   "metadata": {
    "collapsed": false,
    "deletable": true,
    "editable": true
   },
   "outputs": [
    {
     "data": {
      "text/plain": [
       "RidgeCV(alphas=array([  1.00000e-03,   4.13939e-02, ...,   3.95961e+00,   4.00000e+00]),\n",
       "    cv=None, fit_intercept=True, gcv_mode=None, normalize=False,\n",
       "    scoring='neg_mean_squared_error', store_cv_values=False)"
      ]
     },
     "execution_count": 51,
     "metadata": {},
     "output_type": "execute_result"
    }
   ],
   "source": [
    "ridgecv.fit(x_train, y_train) "
   ]
  },
  {
   "cell_type": "code",
   "execution_count": 52,
   "metadata": {
    "collapsed": false,
    "deletable": true,
    "editable": true
   },
   "outputs": [
    {
     "data": {
      "text/plain": [
       "0.001"
      ]
     },
     "execution_count": 52,
     "metadata": {},
     "output_type": "execute_result"
    }
   ],
   "source": [
    "ridgecv.alpha_"
   ]
  },
  {
   "cell_type": "code",
   "execution_count": 53,
   "metadata": {
    "collapsed": true,
    "deletable": true,
    "editable": true
   },
   "outputs": [],
   "source": [
    "predictions = ridgecv.predict(x_test)"
   ]
  },
  {
   "cell_type": "code",
   "execution_count": 54,
   "metadata": {
    "collapsed": false,
    "deletable": true,
    "editable": true
   },
   "outputs": [
    {
     "name": "stdout",
     "output_type": "stream",
     "text": [
      "PizzaPrice 0.0174297546584\n",
      "BurgerPrice 0.0174297546584\n",
      "RoomTemperature -2.37331768194e-06\n",
      "DeliveryMode 4.09723250983e-05\n",
      "Income 0.962922811996\n",
      "softdrinkPrice -0.19813704847\n",
      "Location 1.96179044307e-05\n"
     ]
    }
   ],
   "source": [
    "for i, j in zip(x_train.columns, ridgecv.coef_):\n",
    "    print (i, j) "
   ]
  },
  {
   "cell_type": "code",
   "execution_count": 55,
   "metadata": {
    "collapsed": false,
    "deletable": true,
    "editable": true
   },
   "outputs": [
    {
     "data": {
      "text/plain": [
       "-9.6176496947632251e-05"
      ]
     },
     "execution_count": 55,
     "metadata": {},
     "output_type": "execute_result"
    }
   ],
   "source": [
    "ridgecv.intercept_"
   ]
  },
  {
   "cell_type": "code",
   "execution_count": 56,
   "metadata": {
    "collapsed": false,
    "deletable": true,
    "editable": true
   },
   "outputs": [
    {
     "data": {
      "image/png": "[encoded data removed]",
      "text/plain": [
       "<matplotlib.figure.Figure at 0x7fec5cf297b8>"
      ]
     },
     "metadata": {},
     "output_type": "display_data"
    }
   ],
   "source": [
    "residuals = predictions - y_test\n",
    "residuals.plot(kind='box')\n",
    "plt.show()"
   ]
  },
  {
   "cell_type": "code",
   "execution_count": 57,
   "metadata": {
    "collapsed": false,
    "deletable": true,
    "editable": true
   },
   "outputs": [
    {
     "data": {
      "image/png": "[encoded data removed]",
      "text/plain": [
       "<matplotlib.figure.Figure at 0x7fec5ceeb198>"
      ]
     },
     "metadata": {},
     "output_type": "display_data"
    }
   ],
   "source": [
    "plt.scatter(y_test, abs(residuals))\n",
    "plt.show()"
   ]
  },
  {
   "cell_type": "code",
   "execution_count": 58,
   "metadata": {
    "collapsed": false,
    "deletable": true,
    "editable": true
   },
   "outputs": [
    {
     "data": {
      "image/png": "[encoded data removed]",
      "text/plain": [
       "<matplotlib.figure.Figure at 0x7fec5c7b6da0>"
      ]
     },
     "metadata": {},
     "output_type": "display_data"
    }
   ],
   "source": [
    "plt.scatter(y_test, predictions)\n",
    "plt.plot(y_test, predictions)\n",
    "plt.show() "
   ]
  },
  {
   "cell_type": "markdown",
   "metadata": {
    "deletable": true,
    "editable": true
   },
   "source": [
    "## LassoCV"
   ]
  },
  {
   "cell_type": "code",
   "execution_count": 59,
   "metadata": {
    "collapsed": true,
    "deletable": true,
    "editable": true
   },
   "outputs": [],
   "source": [
    "lassocv = linear_model.LassoCV(alphas=alphas_lasso, cv=10, max_iter=100000)"
   ]
  },
  {
   "cell_type": "code",
   "execution_count": 60,
   "metadata": {
    "collapsed": false,
    "deletable": true,
    "editable": true
   },
   "outputs": [
    {
     "data": {
      "text/plain": [
       "LassoCV(alphas=array([-1.    , -0.9798, ...,  0.9798,  1.    ]), copy_X=True,\n",
       "    cv=10, eps=0.001, fit_intercept=True, max_iter=100000, n_alphas=100,\n",
       "    n_jobs=1, normalize=False, positive=False, precompute='auto',\n",
       "    random_state=None, selection='cyclic', tol=0.0001, verbose=False)"
      ]
     },
     "execution_count": 60,
     "metadata": {},
     "output_type": "execute_result"
    }
   ],
   "source": [
    "lassocv.fit(x_train, y_train)"
   ]
  },
  {
   "cell_type": "code",
   "execution_count": 61,
   "metadata": {
    "collapsed": false,
    "deletable": true,
    "editable": true
   },
   "outputs": [],
   "source": [
    "predictions = lassocv.predict(x_test)"
   ]
  },
  {
   "cell_type": "code",
   "execution_count": 62,
   "metadata": {
    "collapsed": false,
    "deletable": true,
    "editable": true
   },
   "outputs": [
    {
     "name": "stdout",
     "output_type": "stream",
     "text": [
      "PizzaPrice 0.0262048626595\n",
      "BurgerPrice 1.39259488436e-18\n",
      "RoomTemperature -0.0\n",
      "DeliveryMode -0.0\n",
      "Income 0.953296570714\n",
      "softdrinkPrice -0.18854162912\n",
      "Location -0.0\n"
     ]
    }
   ],
   "source": [
    "for i, j in zip(x_train.columns, lassocv.coef_):\n",
    "    print (i, j)"
   ]
  },
  {
   "cell_type": "code",
   "execution_count": 63,
   "metadata": {
    "collapsed": false,
    "deletable": true,
    "editable": true
   },
   "outputs": [
    {
     "data": {
      "text/plain": [
       "0.010101010101010166"
      ]
     },
     "execution_count": 63,
     "metadata": {},
     "output_type": "execute_result"
    }
   ],
   "source": [
    "lassocv.alpha_ "
   ]
  },
  {
   "cell_type": "code",
   "execution_count": 64,
   "metadata": {
    "collapsed": false,
    "deletable": true,
    "editable": true
   },
   "outputs": [
    {
     "data": {
      "text/plain": [
       "0.020689788861823613"
      ]
     },
     "execution_count": 64,
     "metadata": {},
     "output_type": "execute_result"
    }
   ],
   "source": [
    "np.mean((y_test - predictions)**2)**0.5 "
   ]
  },
  {
   "cell_type": "code",
   "execution_count": 65,
   "metadata": {
    "collapsed": false,
    "deletable": true,
    "editable": true
   },
   "outputs": [
    {
     "data": {
      "image/png": "[encoded data removed]",
      "text/plain": [
       "<matplotlib.figure.Figure at 0x7fec5c745f60>"
      ]
     },
     "metadata": {},
     "output_type": "display_data"
    }
   ],
   "source": [
    "residuals = predictions - y_test\n",
    "residuals.plot(kind='box')\n",
    "plt.show()"
   ]
  },
  {
   "cell_type": "code",
   "execution_count": 66,
   "metadata": {
    "collapsed": false,
    "deletable": true,
    "editable": true
   },
   "outputs": [
    {
     "data": {
      "image/png": "[encoded data removed]",
      "text/plain": [
       "<matplotlib.figure.Figure at 0x7fec5d6d1a58>"
      ]
     },
     "metadata": {},
     "output_type": "display_data"
    }
   ],
   "source": [
    "plt.scatter(y_test, abs(residuals))\n",
    "plt.show()"
   ]
  },
  {
   "cell_type": "code",
   "execution_count": 67,
   "metadata": {
    "collapsed": false,
    "deletable": true,
    "editable": true
   },
   "outputs": [
    {
     "data": {
      "image/png": "[encoded data removed]",
      "text/plain": [
       "<matplotlib.figure.Figure at 0x7fec5ac667f0>"
      ]
     },
     "metadata": {},
     "output_type": "display_data"
    }
   ],
   "source": [
    "plt.scatter(y_test, predictions)\n",
    "plt.plot(y_test, predictions)\n",
    "plt.show()"
   ]
  },
  {
   "cell_type": "code",
   "execution_count": null,
   "metadata": {
    "collapsed": true,
    "deletable": true,
    "editable": true
   },
   "outputs": [],
   "source": []
  },
  {
   "cell_type": "code",
   "execution_count": null,
   "metadata": {
    "collapsed": true,
    "deletable": true,
    "editable": true
   },
   "outputs": [],
   "source": []
  }
 ],
 "metadata": {
  "kernelspec": {
   "display_name": "Python 3",
   "language": "python",
   "name": "python3"
  },
  "language_info": {
   "codemirror_mode": {
    "name": "ipython",
    "version": 3
   },
   "file_extension": ".py",
   "mimetype": "text/x-python",
   "name": "python",
   "nbconvert_exporter": "python",
   "pygments_lexer": "ipython3",
   "version": "3.5.2"
  }
 },
 "nbformat": 4,
 "nbformat_minor": 2
}
