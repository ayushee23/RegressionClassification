{
 "cells": [
  {
   "cell_type": "code",
   "execution_count": 144,
   "metadata": {
    "collapsed": true,
    "deletable": true,
    "editable": true
   },
   "outputs": [],
   "source": [
    "import pandas as pd\n",
    "import numpy as np\n",
    "import matplotlib\n",
    "import matplotlib.pyplot as plt\n",
    "from sklearn import preprocessing\n",
    "from pandas.tools.plotting import scatter_matrix\n",
    "from pandas.stats.api import ols\n",
    "matplotlib.style.use('ggplot')\n",
    "import statsmodels.formula.api as sm\n",
    "import statsmodels.stats.api as sms\n",
    "from sklearn import linear_model\n",
    "import plotly\n",
    "from plotly.graph_objs import *"
   ]
  },
  {
   "cell_type": "code",
   "execution_count": 145,
   "metadata": {
    "collapsed": false,
    "deletable": true,
    "editable": true
   },
   "outputs": [
    {
     "data": {
      "text/html": [
       "<div>\n",
       "<table border=\"1\" class=\"dataframe\">\n",
       "  <thead>\n",
       "    <tr style=\"text-align: right;\">\n",
       "      <th></th>\n",
       "      <th>SemiMajorAxis</th>\n",
       "      <th>Volume</th>\n",
       "      <th>EscapeVelocity</th>\n",
       "      <th>Density</th>\n",
       "      <th>planet</th>\n",
       "      <th>OrbitalPeriod</th>\n",
       "    </tr>\n",
       "  </thead>\n",
       "  <tbody>\n",
       "    <tr>\n",
       "      <th>0</th>\n",
       "      <td>0.662104</td>\n",
       "      <td>10.236030</td>\n",
       "      <td>10.892849</td>\n",
       "      <td>6.072644</td>\n",
       "      <td>7</td>\n",
       "      <td>0.448359</td>\n",
       "    </tr>\n",
       "    <tr>\n",
       "      <th>1</th>\n",
       "      <td>11.721498</td>\n",
       "      <td>8.132345</td>\n",
       "      <td>34.080931</td>\n",
       "      <td>0.758931</td>\n",
       "      <td>5</td>\n",
       "      <td>40.447949</td>\n",
       "    </tr>\n",
       "    <tr>\n",
       "      <th>2</th>\n",
       "      <td>4.903094</td>\n",
       "      <td>1.538470</td>\n",
       "      <td>58.493158</td>\n",
       "      <td>1.281688</td>\n",
       "      <td>1</td>\n",
       "      <td>10.063035</td>\n",
       "    </tr>\n",
       "    <tr>\n",
       "      <th>3</th>\n",
       "      <td>0.817968</td>\n",
       "      <td>8.532505</td>\n",
       "      <td>10.034185</td>\n",
       "      <td>6.129132</td>\n",
       "      <td>7</td>\n",
       "      <td>0.551544</td>\n",
       "    </tr>\n",
       "    <tr>\n",
       "      <th>4</th>\n",
       "      <td>27.016293</td>\n",
       "      <td>7.106079</td>\n",
       "      <td>25.796580</td>\n",
       "      <td>2.108022</td>\n",
       "      <td>4</td>\n",
       "      <td>225.690334</td>\n",
       "    </tr>\n",
       "  </tbody>\n",
       "</table>\n",
       "</div>"
      ],
      "text/plain": [
       "   SemiMajorAxis     Volume  EscapeVelocity   Density  planet  OrbitalPeriod\n",
       "0       0.662104  10.236030       10.892849  6.072644       7       0.448359\n",
       "1      11.721498   8.132345       34.080931  0.758931       5      40.447949\n",
       "2       4.903094   1.538470       58.493158  1.281688       1      10.063035\n",
       "3       0.817968   8.532505       10.034185  6.129132       7       0.551544\n",
       "4      27.016293   7.106079       25.796580  2.108022       4     225.690334"
      ]
     },
     "execution_count": 145,
     "metadata": {},
     "output_type": "execute_result"
    }
   ],
   "source": [
    "kepler_data = pd.read_csv('Ex01_Kepler_Regression.csv')\n",
    "kepler_data['planet'] = pd.Categorical(kepler_data.planet).codes\n",
    "kepler_data.head()"
   ]
  },
  {
   "cell_type": "code",
   "execution_count": 146,
   "metadata": {
    "collapsed": true
   },
   "outputs": [],
   "source": [
    "kepler_data['SemiMajorAxis'] = kepler_data['SemiMajorAxis'].map(lambda x: x**2)"
   ]
  },
  {
   "cell_type": "code",
   "execution_count": 147,
   "metadata": {
    "collapsed": false
   },
   "outputs": [
    {
     "data": {
      "text/plain": [
       "SemiMajorAxis     float64\n",
       "Volume            float64\n",
       "EscapeVelocity    float64\n",
       "Density           float64\n",
       "planet               int8\n",
       "OrbitalPeriod     float64\n",
       "dtype: object"
      ]
     },
     "execution_count": 147,
     "metadata": {},
     "output_type": "execute_result"
    }
   ],
   "source": [
    "kepler_data.dtypes"
   ]
  },
  {
   "cell_type": "code",
   "execution_count": 148,
   "metadata": {
    "collapsed": false
   },
   "outputs": [],
   "source": [
    "columns = kepler_data.describe(include=['float64']).columns\n",
    "for col in columns:\n",
    "    kepler_data[col] = kepler_data[col].apply(lambda x :(x-kepler_data[col].mean())/kepler_data[col].std())\n",
    "#     kepler_data[col] = kepler_data[col].apply(lambda x :print(x))"
   ]
  },
  {
   "cell_type": "code",
   "execution_count": 149,
   "metadata": {
    "collapsed": false
   },
   "outputs": [
    {
     "data": {
      "text/html": [
       "<div>\n",
       "<table border=\"1\" class=\"dataframe\">\n",
       "  <thead>\n",
       "    <tr style=\"text-align: right;\">\n",
       "      <th></th>\n",
       "      <th>SemiMajorAxis</th>\n",
       "      <th>Volume</th>\n",
       "      <th>EscapeVelocity</th>\n",
       "      <th>Density</th>\n",
       "      <th>planet</th>\n",
       "      <th>OrbitalPeriod</th>\n",
       "    </tr>\n",
       "  </thead>\n",
       "  <tbody>\n",
       "    <tr>\n",
       "      <th>0</th>\n",
       "      <td>-0.565747</td>\n",
       "      <td>1.565010</td>\n",
       "      <td>-0.510760</td>\n",
       "      <td>1.311394</td>\n",
       "      <td>7</td>\n",
       "      <td>-0.592566</td>\n",
       "    </tr>\n",
       "    <tr>\n",
       "      <th>1</th>\n",
       "      <td>-0.141566</td>\n",
       "      <td>0.898847</td>\n",
       "      <td>0.945673</td>\n",
       "      <td>-1.275073</td>\n",
       "      <td>5</td>\n",
       "      <td>-0.009158</td>\n",
       "    </tr>\n",
       "    <tr>\n",
       "      <th>2</th>\n",
       "      <td>-0.492646</td>\n",
       "      <td>-1.189202</td>\n",
       "      <td>2.478995</td>\n",
       "      <td>-1.020619</td>\n",
       "      <td>1</td>\n",
       "      <td>-0.452333</td>\n",
       "    </tr>\n",
       "    <tr>\n",
       "      <th>3</th>\n",
       "      <td>-0.565033</td>\n",
       "      <td>1.025563</td>\n",
       "      <td>-0.564692</td>\n",
       "      <td>1.338890</td>\n",
       "      <td>7</td>\n",
       "      <td>-0.591061</td>\n",
       "    </tr>\n",
       "    <tr>\n",
       "      <th>4</th>\n",
       "      <td>1.693497</td>\n",
       "      <td>0.573864</td>\n",
       "      <td>0.425337</td>\n",
       "      <td>-0.618398</td>\n",
       "      <td>4</td>\n",
       "      <td>2.692669</td>\n",
       "    </tr>\n",
       "    <tr>\n",
       "      <th>5</th>\n",
       "      <td>1.314209</td>\n",
       "      <td>0.055137</td>\n",
       "      <td>0.368077</td>\n",
       "      <td>-0.709507</td>\n",
       "      <td>4</td>\n",
       "      <td>1.047087</td>\n",
       "    </tr>\n",
       "    <tr>\n",
       "      <th>6</th>\n",
       "      <td>-0.565600</td>\n",
       "      <td>1.497476</td>\n",
       "      <td>-0.563691</td>\n",
       "      <td>0.681412</td>\n",
       "      <td>7</td>\n",
       "      <td>-0.591811</td>\n",
       "    </tr>\n",
       "    <tr>\n",
       "      <th>7</th>\n",
       "      <td>0.800126</td>\n",
       "      <td>0.590200</td>\n",
       "      <td>0.104695</td>\n",
       "      <td>-0.988460</td>\n",
       "      <td>6</td>\n",
       "      <td>2.020357</td>\n",
       "    </tr>\n",
       "    <tr>\n",
       "      <th>8</th>\n",
       "      <td>-0.558118</td>\n",
       "      <td>-1.145613</td>\n",
       "      <td>-0.847151</td>\n",
       "      <td>0.414329</td>\n",
       "      <td>2</td>\n",
       "      <td>-0.559461</td>\n",
       "    </tr>\n",
       "    <tr>\n",
       "      <th>9</th>\n",
       "      <td>-0.450707</td>\n",
       "      <td>-1.191858</td>\n",
       "      <td>2.481224</td>\n",
       "      <td>-0.989077</td>\n",
       "      <td>1</td>\n",
       "      <td>-0.363744</td>\n",
       "    </tr>\n",
       "    <tr>\n",
       "      <th>10</th>\n",
       "      <td>-0.508838</td>\n",
       "      <td>-1.204721</td>\n",
       "      <td>3.082279</td>\n",
       "      <td>-0.888159</td>\n",
       "      <td>1</td>\n",
       "      <td>-0.468814</td>\n",
       "    </tr>\n",
       "    <tr>\n",
       "      <th>11</th>\n",
       "      <td>-0.564694</td>\n",
       "      <td>1.081896</td>\n",
       "      <td>-0.550597</td>\n",
       "      <td>1.301832</td>\n",
       "      <td>7</td>\n",
       "      <td>-0.586593</td>\n",
       "    </tr>\n",
       "    <tr>\n",
       "      <th>12</th>\n",
       "      <td>0.417994</td>\n",
       "      <td>0.430231</td>\n",
       "      <td>0.099909</td>\n",
       "      <td>-1.062181</td>\n",
       "      <td>6</td>\n",
       "      <td>0.418178</td>\n",
       "    </tr>\n",
       "    <tr>\n",
       "      <th>13</th>\n",
       "      <td>-0.565448</td>\n",
       "      <td>1.371362</td>\n",
       "      <td>-0.657619</td>\n",
       "      <td>0.786887</td>\n",
       "      <td>7</td>\n",
       "      <td>-0.591653</td>\n",
       "    </tr>\n",
       "    <tr>\n",
       "      <th>14</th>\n",
       "      <td>-0.559187</td>\n",
       "      <td>-1.223224</td>\n",
       "      <td>-0.899386</td>\n",
       "      <td>-0.060185</td>\n",
       "      <td>2</td>\n",
       "      <td>-0.559986</td>\n",
       "    </tr>\n",
       "    <tr>\n",
       "      <th>15</th>\n",
       "      <td>0.395239</td>\n",
       "      <td>0.304329</td>\n",
       "      <td>-0.032350</td>\n",
       "      <td>-1.105921</td>\n",
       "      <td>6</td>\n",
       "      <td>0.652369</td>\n",
       "    </tr>\n",
       "    <tr>\n",
       "      <th>16</th>\n",
       "      <td>1.301844</td>\n",
       "      <td>0.761232</td>\n",
       "      <td>0.611520</td>\n",
       "      <td>-0.867898</td>\n",
       "      <td>4</td>\n",
       "      <td>1.429558</td>\n",
       "    </tr>\n",
       "    <tr>\n",
       "      <th>17</th>\n",
       "      <td>-0.565646</td>\n",
       "      <td>0.706930</td>\n",
       "      <td>-0.513489</td>\n",
       "      <td>1.229109</td>\n",
       "      <td>7</td>\n",
       "      <td>-0.590985</td>\n",
       "    </tr>\n",
       "    <tr>\n",
       "      <th>18</th>\n",
       "      <td>-0.559827</td>\n",
       "      <td>-1.219841</td>\n",
       "      <td>-0.862554</td>\n",
       "      <td>0.208176</td>\n",
       "      <td>2</td>\n",
       "      <td>-0.558199</td>\n",
       "    </tr>\n",
       "    <tr>\n",
       "      <th>19</th>\n",
       "      <td>-0.566719</td>\n",
       "      <td>0.450443</td>\n",
       "      <td>-0.928972</td>\n",
       "      <td>1.009623</td>\n",
       "      <td>3</td>\n",
       "      <td>-0.597072</td>\n",
       "    </tr>\n",
       "  </tbody>\n",
       "</table>\n",
       "</div>"
      ],
      "text/plain": [
       "    SemiMajorAxis    Volume  EscapeVelocity   Density  planet  OrbitalPeriod\n",
       "0       -0.565747  1.565010       -0.510760  1.311394       7      -0.592566\n",
       "1       -0.141566  0.898847        0.945673 -1.275073       5      -0.009158\n",
       "2       -0.492646 -1.189202        2.478995 -1.020619       1      -0.452333\n",
       "3       -0.565033  1.025563       -0.564692  1.338890       7      -0.591061\n",
       "4        1.693497  0.573864        0.425337 -0.618398       4       2.692669\n",
       "5        1.314209  0.055137        0.368077 -0.709507       4       1.047087\n",
       "6       -0.565600  1.497476       -0.563691  0.681412       7      -0.591811\n",
       "7        0.800126  0.590200        0.104695 -0.988460       6       2.020357\n",
       "8       -0.558118 -1.145613       -0.847151  0.414329       2      -0.559461\n",
       "9       -0.450707 -1.191858        2.481224 -0.989077       1      -0.363744\n",
       "10      -0.508838 -1.204721        3.082279 -0.888159       1      -0.468814\n",
       "11      -0.564694  1.081896       -0.550597  1.301832       7      -0.586593\n",
       "12       0.417994  0.430231        0.099909 -1.062181       6       0.418178\n",
       "13      -0.565448  1.371362       -0.657619  0.786887       7      -0.591653\n",
       "14      -0.559187 -1.223224       -0.899386 -0.060185       2      -0.559986\n",
       "15       0.395239  0.304329       -0.032350 -1.105921       6       0.652369\n",
       "16       1.301844  0.761232        0.611520 -0.867898       4       1.429558\n",
       "17      -0.565646  0.706930       -0.513489  1.229109       7      -0.590985\n",
       "18      -0.559827 -1.219841       -0.862554  0.208176       2      -0.558199\n",
       "19      -0.566719  0.450443       -0.928972  1.009623       3      -0.597072"
      ]
     },
     "execution_count": 149,
     "metadata": {},
     "output_type": "execute_result"
    }
   ],
   "source": [
    "kepler_data.head(20)"
   ]
  },
  {
   "cell_type": "code",
   "execution_count": 101,
   "metadata": {
    "collapsed": false,
    "deletable": true,
    "editable": true
   },
   "outputs": [],
   "source": [
    "kepler_data['SemiMajorAxis'] = kepler_data['SemiMajorAxis'].map(lambda x: x**1.5)"
   ]
  },
  {
   "cell_type": "code",
   "execution_count": 150,
   "metadata": {
    "collapsed": false,
    "deletable": true,
    "editable": true
   },
   "outputs": [
    {
     "data": {
      "image/png": "[encoded data removed]",
      "text/plain": [
       "<matplotlib.figure.Figure at 0x7f02bc6560b8>"
      ]
     },
     "metadata": {},
     "output_type": "display_data"
    },
    {
     "data": {
      "text/html": [
       "<div>\n",
       "<table border=\"1\" class=\"dataframe\">\n",
       "  <thead>\n",
       "    <tr style=\"text-align: right;\">\n",
       "      <th></th>\n",
       "      <th>SemiMajorAxis</th>\n",
       "      <th>Volume</th>\n",
       "      <th>EscapeVelocity</th>\n",
       "      <th>Density</th>\n",
       "      <th>planet</th>\n",
       "      <th>OrbitalPeriod</th>\n",
       "    </tr>\n",
       "  </thead>\n",
       "  <tbody>\n",
       "    <tr>\n",
       "      <th>SemiMajorAxis</th>\n",
       "      <td>1.000000</td>\n",
       "      <td>0.221783</td>\n",
       "      <td>0.193593</td>\n",
       "      <td>-0.539080</td>\n",
       "      <td>0.215873</td>\n",
       "      <td>0.927741</td>\n",
       "    </tr>\n",
       "    <tr>\n",
       "      <th>Volume</th>\n",
       "      <td>0.221783</td>\n",
       "      <td>1.000000</td>\n",
       "      <td>-0.015625</td>\n",
       "      <td>-0.153851</td>\n",
       "      <td>0.912129</td>\n",
       "      <td>0.229391</td>\n",
       "    </tr>\n",
       "    <tr>\n",
       "      <th>EscapeVelocity</th>\n",
       "      <td>0.193593</td>\n",
       "      <td>-0.015625</td>\n",
       "      <td>1.000000</td>\n",
       "      <td>-0.687354</td>\n",
       "      <td>-0.070401</td>\n",
       "      <td>0.225476</td>\n",
       "    </tr>\n",
       "    <tr>\n",
       "      <th>Density</th>\n",
       "      <td>-0.539080</td>\n",
       "      <td>-0.153851</td>\n",
       "      <td>-0.687354</td>\n",
       "      <td>1.000000</td>\n",
       "      <td>-0.178369</td>\n",
       "      <td>-0.565611</td>\n",
       "    </tr>\n",
       "    <tr>\n",
       "      <th>planet</th>\n",
       "      <td>0.215873</td>\n",
       "      <td>0.912129</td>\n",
       "      <td>-0.070401</td>\n",
       "      <td>-0.178369</td>\n",
       "      <td>1.000000</td>\n",
       "      <td>0.231997</td>\n",
       "    </tr>\n",
       "    <tr>\n",
       "      <th>OrbitalPeriod</th>\n",
       "      <td>0.927741</td>\n",
       "      <td>0.229391</td>\n",
       "      <td>0.225476</td>\n",
       "      <td>-0.565611</td>\n",
       "      <td>0.231997</td>\n",
       "      <td>1.000000</td>\n",
       "    </tr>\n",
       "  </tbody>\n",
       "</table>\n",
       "</div>"
      ],
      "text/plain": [
       "                SemiMajorAxis    Volume  EscapeVelocity   Density    planet  \\\n",
       "SemiMajorAxis        1.000000  0.221783        0.193593 -0.539080  0.215873   \n",
       "Volume               0.221783  1.000000       -0.015625 -0.153851  0.912129   \n",
       "EscapeVelocity       0.193593 -0.015625        1.000000 -0.687354 -0.070401   \n",
       "Density             -0.539080 -0.153851       -0.687354  1.000000 -0.178369   \n",
       "planet               0.215873  0.912129       -0.070401 -0.178369  1.000000   \n",
       "OrbitalPeriod        0.927741  0.229391        0.225476 -0.565611  0.231997   \n",
       "\n",
       "                OrbitalPeriod  \n",
       "SemiMajorAxis        0.927741  \n",
       "Volume               0.229391  \n",
       "EscapeVelocity       0.225476  \n",
       "Density             -0.565611  \n",
       "planet               0.231997  \n",
       "OrbitalPeriod        1.000000  "
      ]
     },
     "execution_count": 150,
     "metadata": {},
     "output_type": "execute_result"
    }
   ],
   "source": [
    "correlations = kepler_data.corr()\n",
    "fig = plt.figure()\n",
    "ax = fig.add_subplot(111)\n",
    "names = kepler_data.columns\n",
    "cax = ax.matshow(correlations, vmin=-1, vmax=1)\n",
    "fig.colorbar(cax)\n",
    "ticks = np.arange(0,len(names),1)\n",
    "ax.set_xticks(ticks)\n",
    "ax.set_yticks(ticks)\n",
    "ax.set_xticklabels(names)\n",
    "ax.set_yticklabels(names)\n",
    "plt.show()\n",
    "correlations"
   ]
  },
  {
   "cell_type": "code",
   "execution_count": 151,
   "metadata": {
    "collapsed": false,
    "deletable": true,
    "editable": true
   },
   "outputs": [
    {
     "data": {
      "image/png": "[encoded data removed]",
      "text/plain": [
       "<matplotlib.figure.Figure at 0x7f02b399f7b8>"
      ]
     },
     "metadata": {},
     "output_type": "display_data"
    }
   ],
   "source": [
    "scatter_matrix(kepler_data, diagonal='kde', figsize=(10, 8))\n",
    "plt.show()"
   ]
  },
  {
   "cell_type": "code",
   "execution_count": 152,
   "metadata": {
    "collapsed": true,
    "deletable": true,
    "editable": true
   },
   "outputs": [],
   "source": [
    "splitend = int(0.8 * len(kepler_data))\n",
    "kepler_data_shuffled = kepler_data.sample(frac=1)\n",
    "train, test = kepler_data_shuffled[:splitend], kepler_data_shuffled[splitend:]\n",
    "x_train = train.ix[:, :-1]\n",
    "y_train = train.ix[:, -1]\n",
    "x_test = test.ix[:, :-1]\n",
    "y_test = test.ix[:, -1]"
   ]
  },
  {
   "cell_type": "code",
   "execution_count": 153,
   "metadata": {
    "collapsed": false,
    "deletable": true,
    "editable": true
   },
   "outputs": [],
   "source": [
    "model1 = sm.ols(formula='OrbitalPeriod~SemiMajorAxis+Volume+EscapeVelocity+Density', data=train).fit()"
   ]
  },
  {
   "cell_type": "code",
   "execution_count": 154,
   "metadata": {
    "collapsed": false,
    "deletable": true,
    "editable": true
   },
   "outputs": [
    {
     "data": {
      "text/html": [
       "<table class=\"simpletable\">\n",
       "<caption>OLS Regression Results</caption>\n",
       "<tr>\n",
       "  <th>Dep. Variable:</th>      <td>OrbitalPeriod</td>  <th>  R-squared:         </th> <td>   0.859</td>\n",
       "</tr>\n",
       "<tr>\n",
       "  <th>Model:</th>                   <td>OLS</td>       <th>  Adj. R-squared:    </th> <td>   0.852</td>\n",
       "</tr>\n",
       "<tr>\n",
       "  <th>Method:</th>             <td>Least Squares</td>  <th>  F-statistic:       </th> <td>   114.3</td>\n",
       "</tr>\n",
       "<tr>\n",
       "  <th>Date:</th>             <td>Sat, 01 Apr 2017</td> <th>  Prob (F-statistic):</th> <td>4.04e-31</td>\n",
       "</tr>\n",
       "<tr>\n",
       "  <th>Time:</th>                 <td>10:18:08</td>     <th>  Log-Likelihood:    </th> <td> -27.559</td>\n",
       "</tr>\n",
       "<tr>\n",
       "  <th>No. Observations:</th>      <td>    80</td>      <th>  AIC:               </th> <td>   65.12</td>\n",
       "</tr>\n",
       "<tr>\n",
       "  <th>Df Residuals:</th>          <td>    75</td>      <th>  BIC:               </th> <td>   77.03</td>\n",
       "</tr>\n",
       "<tr>\n",
       "  <th>Df Model:</th>              <td>     4</td>      <th>                     </th>     <td> </td>   \n",
       "</tr>\n",
       "<tr>\n",
       "  <th>Covariance Type:</th>      <td>nonrobust</td>    <th>                     </th>     <td> </td>   \n",
       "</tr>\n",
       "</table>\n",
       "<table class=\"simpletable\">\n",
       "<tr>\n",
       "         <td></td>           <th>coef</th>     <th>std err</th>      <th>t</th>      <th>P>|t|</th>  <th>[0.025</th>    <th>0.975]</th>  \n",
       "</tr>\n",
       "<tr>\n",
       "  <th>Intercept</th>      <td>   -0.0360</td> <td>    0.040</td> <td>   -0.910</td> <td> 0.366</td> <td>   -0.115</td> <td>    0.043</td>\n",
       "</tr>\n",
       "<tr>\n",
       "  <th>SemiMajorAxis</th>  <td>    0.8167</td> <td>    0.050</td> <td>   16.469</td> <td> 0.000</td> <td>    0.718</td> <td>    0.916</td>\n",
       "</tr>\n",
       "<tr>\n",
       "  <th>Volume</th>         <td>    0.0154</td> <td>    0.040</td> <td>    0.384</td> <td> 0.702</td> <td>   -0.064</td> <td>    0.095</td>\n",
       "</tr>\n",
       "<tr>\n",
       "  <th>EscapeVelocity</th> <td>   -0.0144</td> <td>    0.054</td> <td>   -0.266</td> <td> 0.791</td> <td>   -0.122</td> <td>    0.093</td>\n",
       "</tr>\n",
       "<tr>\n",
       "  <th>Density</th>        <td>   -0.0986</td> <td>    0.065</td> <td>   -1.512</td> <td> 0.135</td> <td>   -0.229</td> <td>    0.031</td>\n",
       "</tr>\n",
       "</table>\n",
       "<table class=\"simpletable\">\n",
       "<tr>\n",
       "  <th>Omnibus:</th>       <td>37.081</td> <th>  Durbin-Watson:     </th> <td>   1.986</td>\n",
       "</tr>\n",
       "<tr>\n",
       "  <th>Prob(Omnibus):</th> <td> 0.000</td> <th>  Jarque-Bera (JB):  </th> <td> 411.537</td>\n",
       "</tr>\n",
       "<tr>\n",
       "  <th>Skew:</th>          <td>-0.856</td> <th>  Prob(JB):          </th> <td>4.32e-90</td>\n",
       "</tr>\n",
       "<tr>\n",
       "  <th>Kurtosis:</th>      <td>13.979</td> <th>  Cond. No.          </th> <td>    3.00</td>\n",
       "</tr>\n",
       "</table>"
      ],
      "text/plain": [
       "<class 'statsmodels.iolib.summary.Summary'>\n",
       "\"\"\"\n",
       "                            OLS Regression Results                            \n",
       "==============================================================================\n",
       "Dep. Variable:          OrbitalPeriod   R-squared:                       0.859\n",
       "Model:                            OLS   Adj. R-squared:                  0.852\n",
       "Method:                 Least Squares   F-statistic:                     114.3\n",
       "Date:                Sat, 01 Apr 2017   Prob (F-statistic):           4.04e-31\n",
       "Time:                        10:18:08   Log-Likelihood:                -27.559\n",
       "No. Observations:                  80   AIC:                             65.12\n",
       "Df Residuals:                      75   BIC:                             77.03\n",
       "Df Model:                           4                                         \n",
       "Covariance Type:            nonrobust                                         \n",
       "==================================================================================\n",
       "                     coef    std err          t      P>|t|      [0.025      0.975]\n",
       "----------------------------------------------------------------------------------\n",
       "Intercept         -0.0360      0.040     -0.910      0.366      -0.115       0.043\n",
       "SemiMajorAxis      0.8167      0.050     16.469      0.000       0.718       0.916\n",
       "Volume             0.0154      0.040      0.384      0.702      -0.064       0.095\n",
       "EscapeVelocity    -0.0144      0.054     -0.266      0.791      -0.122       0.093\n",
       "Density           -0.0986      0.065     -1.512      0.135      -0.229       0.031\n",
       "==============================================================================\n",
       "Omnibus:                       37.081   Durbin-Watson:                   1.986\n",
       "Prob(Omnibus):                  0.000   Jarque-Bera (JB):              411.537\n",
       "Skew:                          -0.856   Prob(JB):                     4.32e-90\n",
       "Kurtosis:                      13.979   Cond. No.                         3.00\n",
       "==============================================================================\n",
       "\n",
       "Warnings:\n",
       "[1] Standard Errors assume that the covariance matrix of the errors is correctly specified.\n",
       "\"\"\""
      ]
     },
     "execution_count": 154,
     "metadata": {},
     "output_type": "execute_result"
    }
   ],
   "source": [
    "model1.summary()"
   ]
  },
  {
   "cell_type": "code",
   "execution_count": 155,
   "metadata": {
    "collapsed": false,
    "deletable": true,
    "editable": true
   },
   "outputs": [
    {
     "data": {
      "text/plain": [
       "95   -0.559402\n",
       "43   -0.584656\n",
       "44    1.266549\n",
       "68   -0.608355\n",
       "33    0.314408\n",
       "16    1.115738\n",
       "96   -0.510980\n",
       "8    -0.538170\n",
       "75    0.635025\n",
       "90    1.623836\n",
       "59   -0.154067\n",
       "41   -0.650518\n",
       "71   -0.582334\n",
       "83   -0.554058\n",
       "82   -0.556353\n",
       "53    1.553632\n",
       "7     0.722515\n",
       "63   -0.580329\n",
       "86    2.381860\n",
       "97   -0.608896\n",
       "dtype: float64"
      ]
     },
     "execution_count": 155,
     "metadata": {},
     "output_type": "execute_result"
    }
   ],
   "source": [
    "predictions1 = model1.predict(x_test)\n",
    "predictions1"
   ]
  },
  {
   "cell_type": "code",
   "execution_count": 156,
   "metadata": {
    "collapsed": false,
    "deletable": true,
    "editable": true
   },
   "outputs": [
    {
     "data": {
      "text/plain": [
       "0.46204007992781349"
      ]
     },
     "execution_count": 156,
     "metadata": {},
     "output_type": "execute_result"
    }
   ],
   "source": [
    "np.mean((y_test - predictions1)**2)**0.5"
   ]
  },
  {
   "cell_type": "code",
   "execution_count": 157,
   "metadata": {
    "collapsed": false,
    "deletable": true,
    "editable": true
   },
   "outputs": [
    {
     "data": {
      "image/png": "[encoded data removed]",
      "text/plain": [
       "<matplotlib.figure.Figure at 0x7f02ba0fe630>"
      ]
     },
     "metadata": {},
     "output_type": "display_data"
    }
   ],
   "source": [
    "plt.scatter(y_test, predictions1)\n",
    "plt.plot(y_test, predictions1)\n",
    "plt.show()"
   ]
  },
  {
   "cell_type": "code",
   "execution_count": 182,
   "metadata": {
    "collapsed": false,
    "deletable": true,
    "editable": true
   },
   "outputs": [
    {
     "data": {
      "image/png": "[encoded data removed]",
      "text/plain": [
       "<matplotlib.figure.Figure at 0x7f02b3997898>"
      ]
     },
     "metadata": {},
     "output_type": "display_data"
    }
   ],
   "source": [
    "residuals = y_test - predictions1\n",
    "plt.hist(residuals, bins=4)\n",
    "plt.show()"
   ]
  },
  {
   "cell_type": "code",
   "execution_count": 159,
   "metadata": {
    "collapsed": false,
    "deletable": true,
    "editable": true
   },
   "outputs": [
    {
     "data": {
      "image/png": "[encoded data removed]",
      "text/plain": [
       "<matplotlib.figure.Figure at 0x7f02bc69e0f0>"
      ]
     },
     "metadata": {},
     "output_type": "display_data"
    }
   ],
   "source": [
    "residuals.plot(kind='box')\n",
    "plt.show()"
   ]
  },
  {
   "cell_type": "code",
   "execution_count": 160,
   "metadata": {
    "collapsed": false,
    "deletable": true,
    "editable": true
   },
   "outputs": [
    {
     "data": {
      "text/plain": [
       "[('F statistic', 1.947851096671285), ('p-value', 0.026153251609414067)]"
      ]
     },
     "execution_count": 160,
     "metadata": {},
     "output_type": "execute_result"
    }
   ],
   "source": [
    "name = ['F statistic', 'p-value']\n",
    "test = sms.het_goldfeldquandt(model1.resid, model1.model.exog)\n",
    "list(zip(name, test))"
   ]
  },
  {
   "cell_type": "markdown",
   "metadata": {
    "collapsed": true,
    "deletable": true,
    "editable": true
   },
   "source": [
    "## Lasso"
   ]
  },
  {
   "cell_type": "code",
   "execution_count": 161,
   "metadata": {
    "collapsed": false,
    "deletable": true,
    "editable": true
   },
   "outputs": [
    {
     "data": {
      "text/html": [
       "<div>\n",
       "<table border=\"1\" class=\"dataframe\">\n",
       "  <thead>\n",
       "    <tr style=\"text-align: right;\">\n",
       "      <th></th>\n",
       "      <th>SemiMajorAxis</th>\n",
       "      <th>Volume</th>\n",
       "      <th>EscapeVelocity</th>\n",
       "      <th>Density</th>\n",
       "      <th>planet</th>\n",
       "      <th>alphas</th>\n",
       "    </tr>\n",
       "  </thead>\n",
       "  <tbody>\n",
       "    <tr>\n",
       "      <th>0</th>\n",
       "      <td>0.798040</td>\n",
       "      <td>0.0</td>\n",
       "      <td>0.0</td>\n",
       "      <td>-0.066254</td>\n",
       "      <td>0.007600</td>\n",
       "      <td>0.030000</td>\n",
       "    </tr>\n",
       "    <tr>\n",
       "      <th>1</th>\n",
       "      <td>0.797538</td>\n",
       "      <td>0.0</td>\n",
       "      <td>0.0</td>\n",
       "      <td>-0.065808</td>\n",
       "      <td>0.007551</td>\n",
       "      <td>0.030707</td>\n",
       "    </tr>\n",
       "    <tr>\n",
       "      <th>2</th>\n",
       "      <td>0.797037</td>\n",
       "      <td>0.0</td>\n",
       "      <td>0.0</td>\n",
       "      <td>-0.065362</td>\n",
       "      <td>0.007501</td>\n",
       "      <td>0.031414</td>\n",
       "    </tr>\n",
       "    <tr>\n",
       "      <th>3</th>\n",
       "      <td>0.796536</td>\n",
       "      <td>0.0</td>\n",
       "      <td>0.0</td>\n",
       "      <td>-0.064916</td>\n",
       "      <td>0.007452</td>\n",
       "      <td>0.032121</td>\n",
       "    </tr>\n",
       "    <tr>\n",
       "      <th>4</th>\n",
       "      <td>0.796035</td>\n",
       "      <td>0.0</td>\n",
       "      <td>0.0</td>\n",
       "      <td>-0.064469</td>\n",
       "      <td>0.007403</td>\n",
       "      <td>0.032828</td>\n",
       "    </tr>\n",
       "  </tbody>\n",
       "</table>\n",
       "</div>"
      ],
      "text/plain": [
       "   SemiMajorAxis  Volume  EscapeVelocity   Density    planet    alphas\n",
       "0       0.798040     0.0             0.0 -0.066254  0.007600  0.030000\n",
       "1       0.797538     0.0             0.0 -0.065808  0.007551  0.030707\n",
       "2       0.797037     0.0             0.0 -0.065362  0.007501  0.031414\n",
       "3       0.796536     0.0             0.0 -0.064916  0.007452  0.032121\n",
       "4       0.796035     0.0             0.0 -0.064469  0.007403  0.032828"
      ]
     },
     "execution_count": 161,
     "metadata": {},
     "output_type": "execute_result"
    }
   ],
   "source": [
    "alphas_lasso = np.linspace(0.03,0.1,100)\n",
    "fdf=pd.DataFrame()\n",
    "model = linear_model.Lasso()\n",
    "coeff = []\n",
    "for a in alphas_lasso:\n",
    "    model.set_params(alpha=a)\n",
    "    model.fit(x_train, y_train)\n",
    "    coeff.append(model.coef_)\n",
    "cdf = pd.DataFrame(coeff, columns=x_train.columns)\n",
    "adf = pd.DataFrame(alphas_lasso, columns=['alphas'])\n",
    "fdf = cdf.join(adf)\n",
    "fdf.head()"
   ]
  },
  {
   "cell_type": "code",
   "execution_count": 162,
   "metadata": {
    "collapsed": false
   },
   "outputs": [
    {
     "data": {
      "text/plain": [
       "'file:///home/user/ml_regression/KeplerDataset/LassoRegression.html'"
      ]
     },
     "execution_count": 162,
     "metadata": {},
     "output_type": "execute_result"
    }
   ],
   "source": [
    "trace0 = Scatter(\n",
    "    x = alphas_lasso,\n",
    "    y = fdf['SemiMajorAxis'],\n",
    "    name = 'SemiMajorAxis',\n",
    "    line = dict(\n",
    "        color = ('rgb(205, 12, 24)'),\n",
    "        width = 4)\n",
    ")\n",
    "trace1 = Scatter(\n",
    "    x = alphas_lasso,\n",
    "    y = fdf['Volume'],\n",
    "    name = 'Volume',\n",
    "    line = dict(\n",
    "        color = ('rgb(22, 96, 167)'),\n",
    "        width = 4,)\n",
    ")\n",
    "trace2 = Scatter(\n",
    "    x = alphas_lasso,\n",
    "    y = fdf['EscapeVelocity'],\n",
    "    name = 'EscapeVelocity',\n",
    "    line = dict(\n",
    "        color = ('rgb(205, 12, 24)'),\n",
    "        width = 4,\n",
    "        dash = 'dash') # dash options include 'dash', 'dot', and 'dashdot'\n",
    ")\n",
    "trace3 = Scatter(\n",
    "    x = alphas_lasso,\n",
    "    y = fdf['Density'],\n",
    "    name = 'Density',\n",
    "    line = dict(\n",
    "        color = ('rgb(212, 196, 107)'),\n",
    "        width = 4,\n",
    "        dash = 'dash')\n",
    ")\n",
    "trace4 = Scatter(\n",
    "    x = alphas_lasso,\n",
    "    y = fdf['planet'],\n",
    "    name = 'planet',\n",
    "    line = dict(\n",
    "        color = ('rgb(187, 122, 44)'),\n",
    "        width = 4,\n",
    "        dash = 'dash')\n",
    ")\n",
    "\n",
    "data = [trace0, trace1, trace2, trace3, trace4]\n",
    "\n",
    "# Edit the layout\n",
    "layout = dict(xaxis = dict(title = 'alpha'),\n",
    "              yaxis = dict(title = 'Weights'),\n",
    "              )\n",
    "\n",
    "fig = dict(data=data, layout=layout)\n",
    "plotly.offline.plot(fig, filename='LassoRegression.html')"
   ]
  },
  {
   "cell_type": "markdown",
   "metadata": {},
   "source": [
    "## LassoCV"
   ]
  },
  {
   "cell_type": "code",
   "execution_count": 163,
   "metadata": {
    "collapsed": true
   },
   "outputs": [],
   "source": [
    "lassocv = linear_model.LassoCV(alphas=alphas_lasso, cv=10, max_iter=100000)"
   ]
  },
  {
   "cell_type": "code",
   "execution_count": 164,
   "metadata": {
    "collapsed": false
   },
   "outputs": [
    {
     "name": "stdout",
     "output_type": "stream",
     "text": [
      "SemiMajorAxis 0.798039869433\n",
      "Volume 0.0\n",
      "EscapeVelocity 0.0\n",
      "Density -0.0662539673598\n",
      "planet 0.00759968204066\n"
     ]
    }
   ],
   "source": [
    "lassocv.fit(x_train, y_train)\n",
    "predictions = lassocv.predict(x_test)\n",
    "for i, j in zip(x_train.columns, lassocv.coef_):\n",
    "    print (i, j)"
   ]
  },
  {
   "cell_type": "code",
   "execution_count": 165,
   "metadata": {
    "collapsed": false
   },
   "outputs": [
    {
     "data": {
      "text/plain": [
       "0.48453284582787615"
      ]
     },
     "execution_count": 165,
     "metadata": {},
     "output_type": "execute_result"
    }
   ],
   "source": [
    "np.mean((y_test - predictions)**2)**0.5"
   ]
  },
  {
   "cell_type": "code",
   "execution_count": 166,
   "metadata": {
    "collapsed": false
   },
   "outputs": [
    {
     "data": {
      "text/plain": [
       "0.029999999999999999"
      ]
     },
     "execution_count": 166,
     "metadata": {},
     "output_type": "execute_result"
    }
   ],
   "source": [
    "lassocv.alpha_"
   ]
  },
  {
   "cell_type": "code",
   "execution_count": 167,
   "metadata": {
    "collapsed": false
   },
   "outputs": [
    {
     "data": {
      "image/png": "[encoded data removed]",
      "text/plain": [
       "<matplotlib.figure.Figure at 0x7f02b3772dd8>"
      ]
     },
     "metadata": {},
     "output_type": "display_data"
    }
   ],
   "source": [
    "residuals = predictions - y_test\n",
    "residuals.plot(kind='box')\n",
    "plt.show()"
   ]
  },
  {
   "cell_type": "code",
   "execution_count": 168,
   "metadata": {
    "collapsed": false
   },
   "outputs": [
    {
     "data": {
      "image/png": "[encoded data removed]",
      "text/plain": [
       "<matplotlib.figure.Figure at 0x7f02b3707208>"
      ]
     },
     "metadata": {},
     "output_type": "display_data"
    }
   ],
   "source": [
    "plt.scatter(y_test, predictions)\n",
    "plt.plot(y_test, predictions)\n",
    "plt.show()"
   ]
  },
  {
   "cell_type": "markdown",
   "metadata": {},
   "source": [
    "## Ridge"
   ]
  },
  {
   "cell_type": "code",
   "execution_count": 184,
   "metadata": {
    "collapsed": false
   },
   "outputs": [
    {
     "data": {
      "text/html": [
       "<div>\n",
       "<table border=\"1\" class=\"dataframe\">\n",
       "  <thead>\n",
       "    <tr style=\"text-align: right;\">\n",
       "      <th></th>\n",
       "      <th>SemiMajorAxis</th>\n",
       "      <th>Volume</th>\n",
       "      <th>EscapeVelocity</th>\n",
       "      <th>Density</th>\n",
       "      <th>planet</th>\n",
       "      <th>alphas</th>\n",
       "    </tr>\n",
       "  </thead>\n",
       "  <tbody>\n",
       "    <tr>\n",
       "      <th>0</th>\n",
       "      <td>0.817441</td>\n",
       "      <td>-0.018145</td>\n",
       "      <td>-0.007918</td>\n",
       "      <td>-0.091689</td>\n",
       "      <td>0.015988</td>\n",
       "      <td>0.010000</td>\n",
       "    </tr>\n",
       "    <tr>\n",
       "      <th>1</th>\n",
       "      <td>0.816689</td>\n",
       "      <td>-0.017966</td>\n",
       "      <td>-0.008080</td>\n",
       "      <td>-0.092101</td>\n",
       "      <td>0.015948</td>\n",
       "      <td>0.060404</td>\n",
       "    </tr>\n",
       "    <tr>\n",
       "      <th>2</th>\n",
       "      <td>0.815941</td>\n",
       "      <td>-0.017790</td>\n",
       "      <td>-0.008241</td>\n",
       "      <td>-0.092510</td>\n",
       "      <td>0.015909</td>\n",
       "      <td>0.110808</td>\n",
       "    </tr>\n",
       "    <tr>\n",
       "      <th>3</th>\n",
       "      <td>0.815194</td>\n",
       "      <td>-0.017616</td>\n",
       "      <td>-0.008399</td>\n",
       "      <td>-0.092915</td>\n",
       "      <td>0.015872</td>\n",
       "      <td>0.161212</td>\n",
       "    </tr>\n",
       "    <tr>\n",
       "      <th>4</th>\n",
       "      <td>0.814449</td>\n",
       "      <td>-0.017445</td>\n",
       "      <td>-0.008556</td>\n",
       "      <td>-0.093317</td>\n",
       "      <td>0.015835</td>\n",
       "      <td>0.211616</td>\n",
       "    </tr>\n",
       "  </tbody>\n",
       "</table>\n",
       "</div>"
      ],
      "text/plain": [
       "   SemiMajorAxis    Volume  EscapeVelocity   Density    planet    alphas\n",
       "0       0.817441 -0.018145       -0.007918 -0.091689  0.015988  0.010000\n",
       "1       0.816689 -0.017966       -0.008080 -0.092101  0.015948  0.060404\n",
       "2       0.815941 -0.017790       -0.008241 -0.092510  0.015909  0.110808\n",
       "3       0.815194 -0.017616       -0.008399 -0.092915  0.015872  0.161212\n",
       "4       0.814449 -0.017445       -0.008556 -0.093317  0.015835  0.211616"
      ]
     },
     "execution_count": 184,
     "metadata": {},
     "output_type": "execute_result"
    }
   ],
   "source": []
  },
  {
   "cell_type": "code",
   "execution_count": 185,
   "metadata": {
    "collapsed": false
   },
   "outputs": [
    {
     "data": {
      "text/plain": [
       "'file:///home/user/ml_regression/KeplerDataset/RidgeRegression.html'"
      ]
     },
     "execution_count": 185,
     "metadata": {},
     "output_type": "execute_result"
    }
   ],
   "source": [
    "trace0 = Scatter(\n",
    "    x = alphas_ridge,\n",
    "    y = fdf['SemiMajorAxis'],\n",
    "    name = 'SemiMajorAxis',\n",
    "    line = dict(\n",
    "        color = ('rgb(205, 12, 24)'),\n",
    "        width = 4)\n",
    ")\n",
    "trace1 = Scatter(\n",
    "    x = alphas_ridge,\n",
    "    y = fdf['Volume'],\n",
    "    name = 'Volume',\n",
    "    line = dict(\n",
    "        color = ('rgb(22, 96, 167)'),\n",
    "        width = 4,)\n",
    ")\n",
    "trace2 = Scatter(\n",
    "    x = alphas_ridge,\n",
    "    y = fdf['EscapeVelocity'],\n",
    "    name = 'EscapeVelocity',\n",
    "    line = dict(\n",
    "        color = ('rgb(205, 12, 24)'),\n",
    "        width = 4,\n",
    "        dash = 'dash') # dash options include 'dash', 'dot', and 'dashdot'\n",
    ")\n",
    "trace3 = Scatter(\n",
    "    x = alphas_ridge,\n",
    "    y = fdf['Density'],\n",
    "    name = 'Density',\n",
    "    line = dict(\n",
    "        color = ('rgb(212, 196, 107)'),\n",
    "        width = 4,\n",
    "        dash = 'dash')\n",
    ")\n",
    "trace4 = Scatter(\n",
    "    x = alphas_ridge,\n",
    "    y = fdf['planet'],\n",
    "    name = 'planet',\n",
    "    line = dict(\n",
    "        color = ('rgb(187, 122, 44)'),\n",
    "        width = 4,\n",
    "        dash = 'dash')\n",
    ")\n",
    "\n",
    "data = [trace0, trace1, trace2, trace3, trace4]\n",
    "\n",
    "# Edit the layout\n",
    "layout = dict(xaxis = dict(title = 'alpha'),\n",
    "              yaxis = dict(title = 'Weights'),\n",
    "              )\n",
    "\n",
    "fig = dict(data=data, layout=layout)\n",
    "plotly.offline.plot(fig, filename='RidgeRegression.html')"
   ]
  },
  {
   "cell_type": "markdown",
   "metadata": {},
   "source": [
    "## RidgeCV"
   ]
  },
  {
   "cell_type": "code",
   "execution_count": 177,
   "metadata": {
    "collapsed": true
   },
   "outputs": [],
   "source": [
    "ridgecv = linear_model.RidgeCV(alphas=alphas_ridge, scoring='neg_mean_squared_error')"
   ]
  },
  {
   "cell_type": "code",
   "execution_count": 178,
   "metadata": {
    "collapsed": false
   },
   "outputs": [
    {
     "name": "stdout",
     "output_type": "stream",
     "text": [
      "SemiMajorAxis 0.78934612556\n",
      "Volume -0.0125329741454\n",
      "EscapeVelocity -0.0129900745666\n",
      "Density -0.105823113548\n",
      "planet 0.0150422031149\n"
     ]
    }
   ],
   "source": [
    "ridgecv.fit(x_train, y_train)\n",
    "for i, j in zip(x_train.columns, ridgecv.coef_):\n",
    "    print (i, j)"
   ]
  },
  {
   "cell_type": "code",
   "execution_count": 173,
   "metadata": {
    "collapsed": false
   },
   "outputs": [
    {
     "data": {
      "image/png": "[encoded data removed]",
      "text/plain": [
       "<matplotlib.figure.Figure at 0x7f02b37775c0>"
      ]
     },
     "metadata": {},
     "output_type": "display_data"
    }
   ],
   "source": [
    "predictions = ridgecv.predict(x_test)\n",
    "residuals = predictions - y_test\n",
    "residuals.plot(kind='box')\n",
    "plt.show()"
   ]
  },
  {
   "cell_type": "code",
   "execution_count": 183,
   "metadata": {
    "collapsed": false
   },
   "outputs": [
    {
     "data": {
      "image/png": "[encoded data removed]",
      "text/plain": [
       "<matplotlib.figure.Figure at 0x7f02b395afd0>"
      ]
     },
     "metadata": {},
     "output_type": "display_data"
    }
   ],
   "source": [
    "plt.scatter(y_test, predictions)\n",
    "plt.plot(y_test, predictions)\n",
    "plt.show()"
   ]
  },
  {
   "cell_type": "code",
   "execution_count": null,
   "metadata": {
    "collapsed": true
   },
   "outputs": [],
   "source": []
  },
  {
   "cell_type": "code",
   "execution_count": null,
   "metadata": {
    "collapsed": true
   },
   "outputs": [],
   "source": []
  }
 ],
 "metadata": {
  "kernelspec": {
   "display_name": "Python 3",
   "language": "python",
   "name": "python3"
  },
  "language_info": {
   "codemirror_mode": {
    "name": "ipython",
    "version": 3
   },
   "file_extension": ".py",
   "mimetype": "text/x-python",
   "name": "python",
   "nbconvert_exporter": "python",
   "pygments_lexer": "ipython3",
   "version": "3.5.2"
  }
 },
 "nbformat": 4,
 "nbformat_minor": 2
}
